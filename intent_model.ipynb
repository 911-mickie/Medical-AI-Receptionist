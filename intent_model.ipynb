{
  "cells": [
    {
      "cell_type": "code",
      "execution_count": null,
      "metadata": {
        "colab": {
          "base_uri": "https://localhost:8080/"
        },
        "id": "-7UCP8Z3GK6f",
        "outputId": "0e6e7ac6-d576-4482-9de6-e3d1817e927c"
      },
      "outputs": [
        {
          "name": "stdout",
          "output_type": "stream",
          "text": [
            "Dataset saved as intent_dataset.csv\n"
          ]
        }
      ],
      "source": [
        "import pandas as pd\n",
        "from io import StringIO\n",
        "\n",
        "# Replace the triple quotes with the dataset you copied\n",
        "data = \"\"\"text,label\n",
        "\"I want to leave a message for the doctor\",LABEL_1\n",
        "\"Please pass this message to Dr. Adrin\",LABEL_1\n",
        "\"Can you let the doctor know I'm not feeling well?\",LABEL_1\n",
        "\"I would like to schedule an appointment\",LABEL_1\n",
        "\"Tell the doctor that I will be late for my appointment\",LABEL_1\n",
        "\"I just need to leave a quick message\",LABEL_1\n",
        "\"Can you tell the doctor to call me back?\",LABEL_1\n",
        "\"I have a question for Dr. Adrin\",LABEL_1\n",
        "\"Please inform the doctor that I need a prescription refill\",LABEL_1\n",
        "\"I'd like to leave a message about my test results\",LABEL_1\n",
        "\"Can you let the doctor know I need a follow-up?\",LABEL_1\n",
        "\"I need to leave a message regarding my treatment\",LABEL_1\n",
        "\"Please tell Dr. Adrin that I am doing better\",LABEL_1\n",
        "\"I want to update the doctor on my condition\",LABEL_1\n",
        "\"Can you inform the doctor that I have a new symptom?\",LABEL_1\n",
        "\"I would like to leave a message about my last visit\",LABEL_1\n",
        "\"Please tell the doctor that I need to reschedule\",LABEL_1\n",
        "\"I want to leave a message for the doctor about my medication\",LABEL_1\n",
        "\"Can you tell Dr. Adrin that I have some concerns?\",LABEL_1\n",
        "\"I would like to inform the doctor about my recent test results\",LABEL_1\n",
        "\"I need to leave a message about my health\",LABEL_1\n",
        "\"Please let the doctor know that I need advice\",LABEL_1\n",
        "\"I'd like to leave a message about my upcoming appointment\",LABEL_1\n",
        "\"Can you pass this message to the doctor for me?\",LABEL_1\n",
        "\"I need to inform the doctor about a change in my condition\",LABEL_1\n",
        "\"Please tell Dr. Adrin that I need to talk about my test results\",LABEL_1\n",
        "\"Can you inform the doctor that I am feeling better?\",LABEL_1\n",
        "\"I want to leave a message for the doctor about my recovery\",LABEL_1\n",
        "\"Please pass on this message to the doctor\",LABEL_1\n",
        "\"Can you tell the doctor that I have some questions?\",LABEL_1\n",
        "\"I need to leave a message about my symptoms\",LABEL_1\n",
        "\"Please inform the doctor that I am concerned about my health\",LABEL_1\n",
        "\"I would like to leave a message regarding my prescription\",LABEL_1\n",
        "\"Can you let the doctor know I need a check-up?\",LABEL_1\n",
        "\"I want to leave a message for Dr. Adrin about my progress\",LABEL_1\n",
        "\"Please tell the doctor that I have a new symptom\",LABEL_1\n",
        "\"I need to leave a message about my recent surgery\",LABEL_1\n",
        "\"Can you pass this message to the doctor?\",LABEL_1\n",
        "\"I would like to inform the doctor about my current status\",LABEL_1\n",
        "\"Please let the doctor know that I need to discuss my treatment\",LABEL_1\n",
        "\"I want to leave a message for the doctor about my medication\",LABEL_1\n",
        "\"Can you tell Dr. Adrin that I have some questions about my care?\",LABEL_1\n",
        "\"I'd like to leave a message about my recent test\",LABEL_1\n",
        "\"Please inform the doctor that I need to speak with them\",LABEL_1\n",
        "\"I need to leave a message regarding my health\",LABEL_1\n",
        "\"Can you let the doctor know that I have a concern?\",LABEL_1\n",
        "\"Please tell Dr. Adrin that I need a prescription refill\",LABEL_1\n",
        "\"I want to leave a message for the doctor about my follow-up\",LABEL_1\n",
        "\"I would like to inform the doctor about my new symptoms\",LABEL_1\n",
        "\"I need to leave a message about my medical history\",LABEL_1\n",
        "\"I'm having an emergency, please help!\",LABEL_0\n",
        "\"Help, it's an emergency!\",LABEL_0\n",
        "\"I need immediate assistance, it's an emergency!\",LABEL_0\n",
        "\"I am in a critical situation, can you help?\",LABEL_0\n",
        "\"Emergency! I need help right now!\",LABEL_0\n",
        "\"I'm not feeling well, this is an emergency!\",LABEL_0\n",
        "\"I think I might be having a heart attack!\",LABEL_0\n",
        "\"I can't breathe, it's an emergency!\",LABEL_0\n",
        "\"I'm bleeding heavily, help!\",LABEL_0\n",
        "\"I think I've broken my arm!\",LABEL_0\n",
        "\"There's a serious problem, I need help immediately!\",LABEL_0\n",
        "\"I'm having severe chest pain, please help!\",LABEL_0\n",
        "\"I can't move, I think I broke my leg!\",LABEL_0\n",
        "\"My head hurts badly, I think it's serious!\",LABEL_0\n",
        "\"I'm feeling dizzy and can't stand up!\",LABEL_0\n",
        "\"I was in an accident and need help!\",LABEL_0\n",
        "\"Please, I need urgent medical attention!\",LABEL_0\n",
        "\"I'm experiencing severe pain, can you help?\",LABEL_0\n",
        "\"I can't stop the bleeding, it's an emergency!\",LABEL_0\n",
        "\"I think I might be having a stroke!\",LABEL_0\n",
        "\"I'm having trouble breathing, please help!\",LABEL_0\n",
        "\"I'm in a lot of pain, I need help now!\",LABEL_0\n",
        "\"I'm having a panic attack, I need help!\",LABEL_0\n",
        "\"I fell and hit my head, it's an emergency!\",LABEL_0\n",
        "\"My chest feels tight, I need help!\",LABEL_0\n",
        "\"I think I have a concussion, please help!\",LABEL_0\n",
        "\"I can't see properly, I think something's wrong!\",LABEL_0\n",
        "\"I just had a seizure, help!\",LABEL_0\n",
        "\"I'm feeling really weak, it's an emergency!\",LABEL_0\n",
        "\"I was bitten by a snake, I need help!\",LABEL_0\n",
        "\"I've been in an accident, I need help right away!\",LABEL_0\n",
        "\"I can't feel my legs, I need assistance!\",LABEL_0\n",
        "\"I'm choking, help!\",LABEL_0\n",
        "\"I think I dislocated my shoulder!\",LABEL_0\n",
        "\"My vision is blurry, it's an emergency!\",LABEL_0\n",
        "\"I'm having severe abdominal pain, please help!\",LABEL_0\n",
        "\"I can't hear properly, I need help!\",LABEL_0\n",
        "\"I'm having trouble speaking, it's an emergency!\",LABEL_0\n",
        "\"I was electrocuted, I need help!\",LABEL_0\n",
        "\"My arm is numb, I think something's wrong!\",LABEL_0\n",
        "\"I'm sweating and feel faint, it's an emergency!\",LABEL_0\n",
        "\"I think I have food poisoning, please help!\",LABEL_0\n",
        "\"I can't swallow, it's an emergency!\",LABEL_0\n",
        "\"I'm feeling a lot of pressure in my chest!\",LABEL_0\n",
        "\"I'm shaking uncontrollably, I need help!\",LABEL_0\n",
        "\"My heart is racing, it's an emergency!\",LABEL_0\n",
        "\"I feel like I'm going to pass out!\",LABEL_0\n",
        "\"My pulse is very weak, help!\",LABEL_0\n",
        "\"I was burned badly, it's an emergency!\",LABEL_0\"\"\"\n",
        "\n",
        "# Load the dataset into a DataFrame\n",
        "df = pd.read_csv(StringIO(data))\n",
        "\n",
        "# Save the DataFrame as a CSV file\n",
        "df.to_csv('intent_dataset.csv', index=False)\n",
        "\n",
        "print(\"Dataset saved as intent_dataset.csv\")\n"
      ]
    },
    {
      "cell_type": "code",
      "execution_count": null,
      "metadata": {
        "colab": {
          "base_uri": "https://localhost:8080/"
        },
        "id": "ZYmFjff2Gx-O",
        "outputId": "d218e2c4-0262-4097-e166-24b4a5b381c2"
      },
      "outputs": [
        {
          "name": "stdout",
          "output_type": "stream",
          "text": [
            "                                                text    label\n",
            "0           I want to leave a message for the doctor  LABEL_1\n",
            "1              Please pass this message to Dr. Adrin  LABEL_1\n",
            "2  Can you let the doctor know I'm not feeling well?  LABEL_1\n",
            "3            I would like to schedule an appointment  LABEL_1\n",
            "4  Tell the doctor that I will be late for my app...  LABEL_1\n"
          ]
        }
      ],
      "source": [
        "import pandas as pd\n",
        "\n",
        "# Load the dataset\n",
        "df = pd.read_csv('/content/intent_dataset.csv')\n",
        "\n",
        "# Preview the first few rows\n",
        "print(df.head())"
      ]
    },
    {
      "cell_type": "code",
      "execution_count": null,
      "metadata": {
        "colab": {
          "base_uri": "https://localhost:8080/"
        },
        "id": "YY1To5oxHGo2",
        "outputId": "ccb4630a-830e-4979-88e6-a310246896e9"
      },
      "outputs": [
        {
          "name": "stdout",
          "output_type": "stream",
          "text": [
            "\n",
            "Shuffled DataFrame:\n",
            "                                                 text    label\n",
            "8   Please inform the doctor that I need a prescri...  LABEL_1\n",
            "71             I'm in a lot of pain, I need help now!  LABEL_0\n",
            "27  I want to leave a message for the doctor about...  LABEL_1\n",
            "69                I think I might be having a stroke!  LABEL_0\n",
            "37           Can you pass this message to the doctor?  LABEL_1\n",
            "..                                                ...      ...\n",
            "73         I fell and hit my head, it's an emergency!  LABEL_0\n",
            "30        I need to leave a message about my symptoms  LABEL_1\n",
            "92                I can't swallow, it's an emergency!  LABEL_0\n",
            "23    Can you pass this message to the doctor for me?  LABEL_1\n",
            "55        I'm not feeling well, this is an emergency!  LABEL_0\n",
            "\n",
            "[99 rows x 2 columns]\n"
          ]
        }
      ],
      "source": [
        "df = df.sample(frac = 1)\n",
        "\n",
        "# print the shuffled DataFrame\n",
        "print(\"\\nShuffled DataFrame:\")\n",
        "print(df)"
      ]
    },
    {
      "cell_type": "code",
      "execution_count": null,
      "metadata": {
        "id": "le0DhyTlH-34"
      },
      "outputs": [],
      "source": [
        "!pip install datasets\n",
        "import datasets"
      ]
    },
    {
      "cell_type": "code",
      "execution_count": null,
      "metadata": {
        "id": "bmsJRoV6HTxl"
      },
      "outputs": [],
      "source": [
        "from datasets import load_dataset, Dataset\n",
        "from sklearn.model_selection import train_test_split\n",
        "\n",
        "# Convert the DataFrame to a Hugging Face Dataset\n",
        "dataset = Dataset.from_pandas(df)\n",
        "\n",
        "# Split the dataset into training and validation sets\n",
        "train_dataset, val_dataset = train_test_split(dataset, test_size=0.1)\n",
        "\n",
        "# Convert to Hugging Face datasets\n",
        "train_dataset = Dataset.from_dict(train_dataset)\n",
        "val_dataset = Dataset.from_dict(val_dataset)\n"
      ]
    },
    {
      "cell_type": "code",
      "execution_count": null,
      "metadata": {
        "colab": {
          "base_uri": "https://localhost:8080/",
          "height": 98,
          "referenced_widgets": [
            "8ce57732a1dc4402bf13b016e2013a24",
            "42863919849d4477b10563f93d7d7aa2",
            "15450e7aa18f4018b530f5c307c704ea",
            "f4d76b1a647742b7a2fa444843740d4c",
            "6f84cf983b014a34a55e8ce2b4078ad8",
            "752aa41d64a5496d857ab2af772b29a8",
            "7ca168a221ad45089962258cfe18b36f",
            "98c6f5aaa27e457d89bf55fdafde6ea0",
            "08d960d7aa7e4b43822fada25c03eff7",
            "e3d73680d82440e5b64a827852a5f0ac",
            "d95cb31c9bad4ece8c4a21e4a7e2847c",
            "aafad82f6a9940aa9b66c05a6b22b2c9",
            "a48d574df58f4cf99bb9597cdf137564",
            "70f043c1c360478eae0a0ac35355e33e",
            "e3a37c6a6d1b4292a87e0b5c660f42ad",
            "0048abe51abc4aec8ad954efec99e214",
            "aaea48104e824445a55a3db7efb26d52",
            "4392218f95f545b9b913dd78f857ce92",
            "88d4216092b64266a0524dbebdcd102b",
            "c55e916708b94e8cab79be656f105210",
            "9ab053b3bb2a4aed83626009ce6c8e22",
            "d3212f63abf9444bad26bbe3303d7826"
          ]
        },
        "id": "glsD12bxJHnr",
        "outputId": "8540958b-a328-4e8f-b3d0-78c1fe993156"
      },
      "outputs": [
        {
          "data": {
            "application/vnd.jupyter.widget-view+json": {
              "model_id": "8ce57732a1dc4402bf13b016e2013a24",
              "version_major": 2,
              "version_minor": 0
            },
            "text/plain": [
              "Map:   0%|          | 0/89 [00:00<?, ? examples/s]"
            ]
          },
          "metadata": {},
          "output_type": "display_data"
        },
        {
          "data": {
            "application/vnd.jupyter.widget-view+json": {
              "model_id": "aafad82f6a9940aa9b66c05a6b22b2c9",
              "version_major": 2,
              "version_minor": 0
            },
            "text/plain": [
              "Map:   0%|          | 0/10 [00:00<?, ? examples/s]"
            ]
          },
          "metadata": {},
          "output_type": "display_data"
        },
        {
          "name": "stdout",
          "output_type": "stream",
          "text": [
            "{'text': \"I was burned badly, it's an emergency!\", 'label': 0, '__index_level_0__': 98}\n"
          ]
        }
      ],
      "source": [
        "# Mapping string labels to integers\n",
        "label_mapping = {\"LABEL_0\": 0, \"LABEL_1\": 1}\n",
        "\n",
        "# Apply the mapping to your dataset\n",
        "def encode_labels(example):\n",
        "    example['label'] = label_mapping[example['label']]\n",
        "    return example\n",
        "\n",
        "# Apply the label encoding to the train and validation datasets\n",
        "train_dataset = train_dataset.map(encode_labels)\n",
        "val_dataset = val_dataset.map(encode_labels)\n",
        "\n",
        "# Check the first few examples to ensure labels are now integers\n",
        "print(train_dataset[0])\n"
      ]
    },
    {
      "cell_type": "code",
      "execution_count": null,
      "metadata": {
        "colab": {
          "base_uri": "https://localhost:8080/",
          "height": 81,
          "referenced_widgets": [
            "5de15914381b4c1e98e88f3b1705e05b",
            "15a9fba024ba4482a176d345b303e6c0",
            "c7fdcd4b85b04389aa4ee8b8db925c1d",
            "dec7f5e92ad943de80f489280a30c2f5",
            "7e705bf3b89a4680bb5228237a06f9de",
            "d91b9dfd7d7a493a93101202338c1edb",
            "4c2e4221dea44c2395c94723dcf5662c",
            "bad9990094f74720b2082add2719d0b9",
            "86216630848849a498c3d363a86ce743",
            "c4c0786446834615815c8ac60e92ca9c",
            "ee3be414133e4ba5a3977b0cdd048d89",
            "1d517a2c3439400e91be409eebd80e0e",
            "d6c3a99aeb494c51aa480196c7a95d65",
            "b99ab12b753a40449635457af47e81b1",
            "502b7d417005422f8f0c5f2cdcdf4feb",
            "96ba0eae801d4c3b843542aa0d88ec24",
            "e34da6e71a5f4e53bd6842998c12d98a",
            "cd3a235e7aa34f56972b87c4b0e6ab99",
            "19f10233394c41779ed738d580fd0049",
            "d953989d778a4591b216c519d385f608",
            "cf55250412b6471fb1a9a1bf10daeb16",
            "9150046f77b7432fbfc24aa50098ec82"
          ]
        },
        "id": "5z-TdlgyHeYl",
        "outputId": "3dffc09b-b728-4beb-d36a-45f530d40caf"
      },
      "outputs": [
        {
          "data": {
            "application/vnd.jupyter.widget-view+json": {
              "model_id": "5de15914381b4c1e98e88f3b1705e05b",
              "version_major": 2,
              "version_minor": 0
            },
            "text/plain": [
              "Map:   0%|          | 0/89 [00:00<?, ? examples/s]"
            ]
          },
          "metadata": {},
          "output_type": "display_data"
        },
        {
          "data": {
            "application/vnd.jupyter.widget-view+json": {
              "model_id": "1d517a2c3439400e91be409eebd80e0e",
              "version_major": 2,
              "version_minor": 0
            },
            "text/plain": [
              "Map:   0%|          | 0/10 [00:00<?, ? examples/s]"
            ]
          },
          "metadata": {},
          "output_type": "display_data"
        }
      ],
      "source": [
        "from transformers import BertTokenizer\n",
        "\n",
        "# Load the BERT tokenizer\n",
        "tokenizer = BertTokenizer.from_pretrained('bert-base-uncased')\n",
        "\n",
        "def tokenize_function(examples):\n",
        "    return tokenizer(examples['text'], padding=\"max_length\", truncation=True)\n",
        "\n",
        "# Apply the tokenizer to the datasets\n",
        "tokenized_train = train_dataset.map(tokenize_function, batched=True)\n",
        "tokenized_val = val_dataset.map(tokenize_function, batched=True)\n"
      ]
    },
    {
      "cell_type": "code",
      "execution_count": null,
      "metadata": {
        "colab": {
          "base_uri": "https://localhost:8080/"
        },
        "id": "Zyc10oH7IGHG",
        "outputId": "44c3b2a7-fd49-4afc-c23f-859fd695f1d9"
      },
      "outputs": [
        {
          "name": "stderr",
          "output_type": "stream",
          "text": [
            "Some weights of BertForSequenceClassification were not initialized from the model checkpoint at bert-base-uncased and are newly initialized: ['classifier.bias', 'classifier.weight']\n",
            "You should probably TRAIN this model on a down-stream task to be able to use it for predictions and inference.\n"
          ]
        }
      ],
      "source": [
        "from transformers import BertForSequenceClassification, TrainingArguments, Trainer\n",
        "\n",
        "# Load the BERT model for sequence classification\n",
        "model = BertForSequenceClassification.from_pretrained('bert-base-uncased', num_labels=2)"
      ]
    },
    {
      "cell_type": "code",
      "execution_count": null,
      "metadata": {
        "colab": {
          "base_uri": "https://localhost:8080/"
        },
        "id": "Cuz856DZINTc",
        "outputId": "9e535336-fd8c-40ea-e5e0-f42551bc70ce"
      },
      "outputs": [
        {
          "name": "stderr",
          "output_type": "stream",
          "text": [
            "/usr/local/lib/python3.10/dist-packages/transformers/training_args.py:1494: FutureWarning: `evaluation_strategy` is deprecated and will be removed in version 4.46 of 🤗 Transformers. Use `eval_strategy` instead\n",
            "  warnings.warn(\n"
          ]
        }
      ],
      "source": [
        "training_args = TrainingArguments(\n",
        "    output_dir='./results',          # Output directory\n",
        "    evaluation_strategy=\"epoch\",     # Evaluate after each epoch\n",
        "    learning_rate=2e-5,              # Learning rate\n",
        "    per_device_train_batch_size=16,  # Batch size for training\n",
        "    per_device_eval_batch_size=16,   # Batch size for evaluation\n",
        "    num_train_epochs=3,              # Number of training epochs\n",
        "    weight_decay=0.01,               # Strength of weight decay\n",
        ")\n"
      ]
    },
    {
      "cell_type": "code",
      "execution_count": null,
      "metadata": {
        "id": "lELhJPllIsr3"
      },
      "outputs": [],
      "source": [
        "trainer = Trainer(\n",
        "    model=model,                         # The instantiated 🤗 Transformers model to be trained\n",
        "    args=training_args,                  # Training arguments, defined above\n",
        "    train_dataset=tokenized_train,       # Training dataset\n",
        "    eval_dataset=tokenized_val,          # Evaluation dataset\n",
        ")\n"
      ]
    },
    {
      "cell_type": "code",
      "execution_count": null,
      "metadata": {
        "colab": {
          "base_uri": "https://localhost:8080/",
          "height": 204
        },
        "id": "iRpBXPPiIwRc",
        "outputId": "b3d1b7af-bdc6-43e7-f317-bd62aac1d0a4"
      },
      "outputs": [
        {
          "data": {
            "text/html": [
              "\n",
              "    <div>\n",
              "      \n",
              "      <progress value='18' max='18' style='width:300px; height:20px; vertical-align: middle;'></progress>\n",
              "      [18/18 00:34, Epoch 3/3]\n",
              "    </div>\n",
              "    <table border=\"1\" class=\"dataframe\">\n",
              "  <thead>\n",
              " <tr style=\"text-align: left;\">\n",
              "      <th>Epoch</th>\n",
              "      <th>Training Loss</th>\n",
              "      <th>Validation Loss</th>\n",
              "    </tr>\n",
              "  </thead>\n",
              "  <tbody>\n",
              "    <tr>\n",
              "      <td>1</td>\n",
              "      <td>No log</td>\n",
              "      <td>0.396621</td>\n",
              "    </tr>\n",
              "    <tr>\n",
              "      <td>2</td>\n",
              "      <td>No log</td>\n",
              "      <td>0.325174</td>\n",
              "    </tr>\n",
              "    <tr>\n",
              "      <td>3</td>\n",
              "      <td>No log</td>\n",
              "      <td>0.303858</td>\n",
              "    </tr>\n",
              "  </tbody>\n",
              "</table><p>"
            ],
            "text/plain": [
              "<IPython.core.display.HTML object>"
            ]
          },
          "metadata": {},
          "output_type": "display_data"
        },
        {
          "data": {
            "text/plain": [
              "TrainOutput(global_step=18, training_loss=0.3834519121381972, metrics={'train_runtime': 37.2626, 'train_samples_per_second': 7.165, 'train_steps_per_second': 0.483, 'total_flos': 70250651781120.0, 'train_loss': 0.3834519121381972, 'epoch': 3.0})"
            ]
          },
          "execution_count": 15,
          "metadata": {},
          "output_type": "execute_result"
        }
      ],
      "source": [
        "trainer.train()"
      ]
    },
    {
      "cell_type": "code",
      "execution_count": null,
      "metadata": {
        "colab": {
          "base_uri": "https://localhost:8080/",
          "height": 124
        },
        "id": "aB7tqtaJI0Vc",
        "outputId": "df657af6-9266-4125-9ca0-43ebde32e535"
      },
      "outputs": [
        {
          "data": {
            "text/html": [
              "\n",
              "    <div>\n",
              "      \n",
              "      <progress value='1' max='1' style='width:300px; height:20px; vertical-align: middle;'></progress>\n",
              "      [1/1 : < :]\n",
              "    </div>\n",
              "    "
            ],
            "text/plain": [
              "<IPython.core.display.HTML object>"
            ]
          },
          "metadata": {},
          "output_type": "display_data"
        },
        {
          "data": {
            "text/plain": [
              "{'eval_loss': 0.30385786294937134,\n",
              " 'eval_runtime': 0.3326,\n",
              " 'eval_samples_per_second': 30.068,\n",
              " 'eval_steps_per_second': 3.007,\n",
              " 'epoch': 3.0}"
            ]
          },
          "execution_count": 16,
          "metadata": {},
          "output_type": "execute_result"
        }
      ],
      "source": [
        "trainer.evaluate()"
      ]
    },
    {
      "cell_type": "markdown",
      "metadata": {
        "id": "g2HcQFs2KDfs"
      },
      "source": [
        "# MODEL 2\n"
      ]
    },
    {
      "cell_type": "code",
      "execution_count": null,
      "metadata": {
        "colab": {
          "base_uri": "https://localhost:8080/"
        },
        "id": "oYOkf0SJKJHJ",
        "outputId": "3552881c-3cd1-488e-f8f2-0e6a32aed90e"
      },
      "outputs": [
        {
          "name": "stdout",
          "output_type": "stream",
          "text": [
            "Dataset saved as intent_dataset.csv\n"
          ]
        }
      ],
      "source": [
        "import pandas as pd\n",
        "from io import StringIO\n",
        "\n",
        "# Replace the triple quotes with the dataset you copied\n",
        "data = \"\"\"text,label\n",
        "\"I want to leave a message for the doctor\",LABEL_1\n",
        "\"Please pass this message to Dr. Adrin\",LABEL_1\n",
        "\"Can you let the doctor know I'm not feeling well?\",LABEL_1\n",
        "\"I would like to schedule an appointment\",LABEL_1\n",
        "\"Tell the doctor that I will be late for my appointment\",LABEL_1\n",
        "\"I just need to leave a quick message\",LABEL_1\n",
        "\"Can you tell the doctor to call me back?\",LABEL_1\n",
        "\"I have a question for Dr. Adrin\",LABEL_1\n",
        "\"Please inform the doctor that I need a prescription refill\",LABEL_1\n",
        "\"I'd like to leave a message about my test results\",LABEL_1\n",
        "\"Can you let the doctor know I need a follow-up?\",LABEL_1\n",
        "\"I need to leave a message regarding my treatment\",LABEL_1\n",
        "\"Please tell Dr. Adrin that I am doing better\",LABEL_1\n",
        "\"I want to update the doctor on my condition\",LABEL_1\n",
        "\"Can you inform the doctor that I have a new symptom?\",LABEL_1\n",
        "\"I would like to leave a message about my last visit\",LABEL_1\n",
        "\"Please tell the doctor that I need to reschedule\",LABEL_1\n",
        "\"I want to leave a message for the doctor about my medication\",LABEL_1\n",
        "\"Can you tell Dr. Adrin that I have some concerns?\",LABEL_1\n",
        "\"I would like to inform the doctor about my recent test results\",LABEL_1\n",
        "\"I need to leave a message about my health\",LABEL_1\n",
        "\"Please let the doctor know that I need advice\",LABEL_1\n",
        "\"I'd like to leave a message about my upcoming appointment\",LABEL_1\n",
        "\"Can you pass this message to the doctor for me?\",LABEL_1\n",
        "\"I need to inform the doctor about a change in my condition\",LABEL_1\n",
        "\"Please tell Dr. Adrin that I need to talk about my test results\",LABEL_1\n",
        "\"Can you inform the doctor that I am feeling better?\",LABEL_1\n",
        "\"I want to leave a message for the doctor about my recovery\",LABEL_1\n",
        "\"Please pass on this message to the doctor\",LABEL_1\n",
        "\"Can you tell the doctor that I have some questions?\",LABEL_1\n",
        "\"I need to leave a message about my symptoms\",LABEL_1\n",
        "\"Please inform the doctor that I am concerned about my health\",LABEL_1\n",
        "\"I would like to leave a message regarding my prescription\",LABEL_1\n",
        "\"Can you let the doctor know I need a check-up?\",LABEL_1\n",
        "\"I want to leave a message for Dr. Adrin about my progress\",LABEL_1\n",
        "\"Please tell the doctor that I have a new symptom\",LABEL_1\n",
        "\"I need to leave a message about my recent surgery\",LABEL_1\n",
        "\"Can you pass this message to the doctor?\",LABEL_1\n",
        "\"I would like to inform the doctor about my current status\",LABEL_1\n",
        "\"Please let the doctor know that I need to discuss my treatment\",LABEL_1\n",
        "\"I want to leave a message for the doctor about my medication\",LABEL_1\n",
        "\"Can you tell Dr. Adrin that I have some questions about my care?\",LABEL_1\n",
        "\"I'd like to leave a message about my recent test\",LABEL_1\n",
        "\"Please inform the doctor that I need to speak with them\",LABEL_1\n",
        "\"I need to leave a message regarding my health\",LABEL_1\n",
        "\"Can you let the doctor know that I have a concern?\",LABEL_1\n",
        "\"Please tell Dr. Adrin that I need a prescription refill\",LABEL_1\n",
        "\"I want to leave a message for the doctor about my follow-up\",LABEL_1\n",
        "\"I would like to inform the doctor about my new symptoms\",LABEL_1\n",
        "\"I need to leave a message about my medical history\",LABEL_1\n",
        "\"Please pass along this message to the doctor\",LABEL_1\n",
        "\"Can you tell the doctor I called?\",LABEL_1\n",
        "\"I want to leave a note for the doctor\",LABEL_1\n",
        "\"Please inform the doctor about my recent visit\",LABEL_1\n",
        "\"I need to tell the doctor about a side effect\",LABEL_1\n",
        "\"Can you inform Dr. Adrin that I have an update?\",LABEL_1\n",
        "\"Please pass this information to the doctor\",LABEL_1\n",
        "\"I want to let the doctor know about my progress\",LABEL_1\n",
        "\"Can you tell the doctor that I have some follow-up questions?\",LABEL_1\n",
        "\"I need to leave a message about my recent test results\",LABEL_1\n",
        "\"Please inform Dr. Adrin that I need a new prescription\",LABEL_1\n",
        "\"Can you tell the doctor I am feeling much better?\",LABEL_1\n",
        "\"I want to leave a message for the doctor about my treatment plan\",LABEL_1\n",
        "\"Please pass this message to the doctor immediately\",LABEL_1\n",
        "\"I need to inform the doctor about my upcoming surgery\",LABEL_1\n",
        "\"Can you let the doctor know I have some concerns?\",LABEL_1\n",
        "\"I want to leave a message for Dr. Adrin regarding my health\",LABEL_1\n",
        "\"Please tell the doctor that I have some questions about my medication\",LABEL_1\n",
        "\"I need to inform the doctor about a complication\",LABEL_1\n",
        "\"Can you tell the doctor I need to speak with him?\",LABEL_1\n",
        "\"I would like to leave a message about my physical therapy\",LABEL_1\n",
        "\"Please inform the doctor about my recovery progress\",LABEL_1\n",
        "\"I want to update the doctor about my recent test results\",LABEL_1\n",
        "\"Can you pass this message to the doctor right away?\",LABEL_1\n",
        "\"I need to leave a message regarding my follow-up visit\",LABEL_1\n",
        "\"Please inform the doctor that I am doing well\",LABEL_1\n",
        "\"I would like to leave a message for Dr. Adrin\",LABEL_1\n",
        "\"Can you tell the doctor about my recent health changes?\",LABEL_1\n",
        "\"I need to inform the doctor about an adverse reaction\",LABEL_1\n",
        "\"Please tell the doctor I need to talk about my diagnosis\",LABEL_1\n",
        "\"I want to leave a message for the doctor regarding my prescription\",LABEL_1\n",
        "\"Can you pass this along to the doctor?\",LABEL_1\n",
        "\"I need to leave a message for Dr. Adrin\",LABEL_1\n",
        "\"Please inform the doctor that I need some advice\",LABEL_1\n",
        "\"I want to update the doctor about my treatment\",LABEL_1\n",
        "\"Can you tell the doctor that I need to change my appointment?\",LABEL_1\n",
        "\"I need to leave a message for the doctor regarding my next visit\",LABEL_1\n",
        "\"Please pass this message to Dr. Adrin\",LABEL_1\n",
        "\"I want to leave a message about my recent health issue\",LABEL_1\n",
        "\"Can you inform the doctor that I am having a side effect?\",LABEL_1\n",
        "\"I need to tell the doctor about my new symptom\",LABEL_1\n",
        "\"Please tell Dr. Adrin that I need a new appointment\",LABEL_1\n",
        "\"I want to leave a message for the doctor about my recent check-up\",LABEL_1\n",
        "\"Can you pass this information to the doctor?\",LABEL_1\n",
        "\"I need to inform the doctor about my current health status\",LABEL_1\n",
        "\"I'm having an emergency, please help!\",LABEL_0\n",
        "\"Help, it's an emergency!\",LABEL_0\n",
        "\"I need immediate assistance, it's an emergency!\",LABEL_0\n",
        "\"I am in a critical situation, can you help?\",LABEL_0\n",
        "\"Emergency! I need help right now!\",LABEL_0\n",
        "\"I'm not feeling well, this is an emergency!\",LABEL_0\n",
        "\"I think I might be having a heart attack!\",LABEL_0\n",
        "\"I can't breathe, it's an emergency!\",LABEL_0\n",
        "\"I'm bleeding heavily, help!\",LABEL_0\n",
        "\"I think I've broken my arm!\",LABEL_0\n",
        "\"There's a serious problem, I need help immediately!\",LABEL_0\n",
        "\"I'm having severe chest pain, please help!\",LABEL_0\n",
        "\"I can't move, I think I broke my leg!\",LABEL_0\n",
        "\"My head hurts badly, I think it's serious!\",LABEL_0\n",
        "\"I'm feeling dizzy and can't stand up!\",LABEL_0\n",
        "\"I was in an accident and need help!\",LABEL_0\n",
        "\"Please, I need urgent medical attention!\",LABEL_0\n",
        "\"I'm experiencing severe pain, can you help?\",LABEL_0\n",
        "\"I can't stop the bleeding, it's an emergency!\",LABEL_0\n",
        "\"I think I might be having a stroke!\",LABEL_0\n",
        "\"I'm having trouble breathing, please help!\",LABEL_0\n",
        "\"I'm in a lot of pain, I need help now!\",LABEL_0\n",
        "\"I'm having a panic attack, I need help!\",LABEL_0\n",
        "\"I fell and hit my head, it's an emergency!\",LABEL_0\n",
        "\"My chest feels tight, I need help!\",LABEL_0\n",
        "\"I think I have a concussion, please help!\",LABEL_0\n",
        "\"I can't see properly, I think something's wrong!\",LABEL_0\n",
        "\"I just had a seizure, help!\",LABEL_0\n",
        "\"I'm feeling really weak, it's an emergency!\",LABEL_0\n",
        "\"I was bitten by a snake, I need help!\",LABEL_0\n",
        "\"I've been in an accident, I need help right away!\",LABEL_0\n",
        "\"I can't feel my legs, I need assistance!\",LABEL_0\n",
        "\"I'm choking, help!\",LABEL_0\n",
        "\"I think I dislocated my shoulder!\",LABEL_0\n",
        "\"My vision is blurry, it's an emergency!\",LABEL_0\n",
        "\"I'm having severe abdominal pain, please help!\",LABEL_0\n",
        "\"I can't hear properly, I need help!\",LABEL_0\n",
        "\"I'm having trouble speaking, it's an emergency!\",LABEL_0\n",
        "\"I was electrocuted, I need help!\",LABEL_0\n",
        "\"My arm is numb, I think something's wrong!\",LABEL_0\n",
        "\"I'm sweating and feel faint, it's an emergency!\",LABEL_0\n",
        "\"I think I have food poisoning, please help!\",LABEL_0\n",
        "\"I can't swallow, it's an emergency!\",LABEL_0\n",
        "\"I'm feeling a lot of pressure in my chest!\",LABEL_0\n",
        "\"I'm shaking uncontrollably, I need help!\",LABEL_0\n",
        "\"My heart is racing, it's an emergency!\",LABEL_0\n",
        "\"I feel like I'm going to pass out!\",LABEL_0\n",
        "\"My pulse is very weak, help!\",LABEL_0\n",
        "\"I was burned badly, it's an emergency!\",LABEL_0\n",
        "\"I fell and hurt my back, help!\",LABEL_0\n",
        "\"I think I broke my ribs, it's an emergency!\",LABEL_0\n",
        "\"My fingers are turning blue, help!\",LABEL_0\n",
        "\"I'm losing consciousness, I need help!\",LABEL_0\n",
        "\"I'm having a bad allergic reaction, help!\",LABEL_0\n",
        "\"I got into a car accident, it's an emergency!\",LABEL_0\n",
        "\"I think I tore a muscle, I need help!\",LABEL_0\n",
        "\"I'm feeling very sick, it's an emergency!\",LABEL_0\n",
        "\"I was stung by a bee, help!\",LABEL_0\n",
        "\"I can't stop vomiting, it's an emergency!\",LABEL_0\n",
        "\"I feel a sharp pain in my chest, help!\",LABEL_0\n",
        "\"I think I sprained my ankle, it's an emergency!\",LABEL_0\n",
        "\"I'm bleeding from my head, help!\",LABEL_0\n",
        "\"I got cut badly, it's an emergency!\",LABEL_0\n",
        "\"I think I'm having an asthma attack, help!\",LABEL_0\n",
        "\"I have a very high fever, it's an emergency!\",LABEL_0\n",
        "\"I was in a fight, help!\",LABEL_0\n",
        "\"I'm feeling very cold, it's an emergency!\",LABEL_0\n",
        "\"I think I broke my wrist, help!\",LABEL_0\n",
        "\"I can't feel my fingers, it's an emergency!\",LABEL_0\n",
        "\"I think I'm going into shock, help!\",LABEL_0\n",
        "\"I'm feeling faint, it's an emergency!\",LABEL_0\n",
        "\"My hands are shaking uncontrollably, help!\",LABEL_0\n",
        "\"I can't catch my breath, it's an emergency!\",LABEL_0\n",
        "\"I think I'm about to faint, help!\",LABEL_0\n",
        "\"I can't stop shaking, it's an emergency!\",LABEL_0\n",
        "\"My legs are cramping badly, help!\",LABEL_0\n",
        "\"I'm having trouble standing, it's an emergency!\",LABEL_0\n",
        "\"I can't see straight, help!\",LABEL_0\n",
        "\"My heart is beating irregularly, it's an emergency!\",LABEL_0\n",
        "\"I'm losing blood fast, help!\",LABEL_0\n",
        "\"My head is spinning, it's an emergency!\",LABEL_0\n",
        "\"I'm coughing up blood, help!\",LABEL_0\n",
        "\"I can't move my arm, it's an emergency!\",LABEL_0\n",
        "\"I'm feeling very weak, help!\",LABEL_0\n",
        "\"I got hit in the face, it's an emergency!\",LABEL_0\n",
        "\"My eyes are swollen shut, help!\",LABEL_0\n",
        "\"I can't stop coughing, it's an emergency!\",LABEL_0\n",
        "\"My throat is closing up, help!\",LABEL_0\n",
        "\"I'm feeling very tired, it's an emergency!\",LABEL_0\n",
        "\"I think I broke my nose, help!\",LABEL_0\n",
        "\"My chest is hurting badly, it's an emergency!\",LABEL_0\n",
        "\"My stomach is cramping up, help!\",LABEL_0\n",
        "\"I got a deep cut, it's an emergency!\",LABEL_0\"\"\"\n",
        "\n",
        "# Load the dataset into a DataFrame\n",
        "df = pd.read_csv(StringIO(data))\n",
        "\n",
        "# Save the DataFrame as a CSV file\n",
        "df.to_csv('intent_dataset.csv', index=False)\n",
        "\n",
        "print(\"Dataset saved as intent_dataset.csv\")\n"
      ]
    },
    {
      "cell_type": "code",
      "execution_count": null,
      "metadata": {
        "colab": {
          "base_uri": "https://localhost:8080/"
        },
        "id": "qUbm3y4VKJHK",
        "outputId": "a39a349f-5d92-4b5b-d7b6-4ee371d5aed2"
      },
      "outputs": [
        {
          "name": "stdout",
          "output_type": "stream",
          "text": [
            "                                                text    label\n",
            "0           I want to leave a message for the doctor  LABEL_1\n",
            "1              Please pass this message to Dr. Adrin  LABEL_1\n",
            "2  Can you let the doctor know I'm not feeling well?  LABEL_1\n",
            "3            I would like to schedule an appointment  LABEL_1\n",
            "4  Tell the doctor that I will be late for my app...  LABEL_1\n"
          ]
        }
      ],
      "source": [
        "import pandas as pd\n",
        "\n",
        "# Load the dataset\n",
        "df = pd.read_csv('/content/intent_dataset.csv')\n",
        "\n",
        "# Preview the first few rows\n",
        "print(df.head())"
      ]
    },
    {
      "cell_type": "code",
      "execution_count": null,
      "metadata": {
        "colab": {
          "base_uri": "https://localhost:8080/"
        },
        "id": "aXRFsasBKJHK",
        "outputId": "8b69fa27-1ebd-4d86-ce7a-4e43b54c2f2b"
      },
      "outputs": [
        {
          "name": "stdout",
          "output_type": "stream",
          "text": [
            "\n",
            "Shuffled DataFrame:\n",
            "                                                  text    label\n",
            "183         I'm feeling very tired, it's an emergency!  LABEL_0\n",
            "162                    I think I broke my wrist, help!  LABEL_0\n",
            "18   Can you tell Dr. Adrin that I have some concerns?  LABEL_1\n",
            "15   I would like to leave a message about my last ...  LABEL_1\n",
            "67   Please tell the doctor that I have some questi...  LABEL_1\n",
            "..                                                 ...      ...\n",
            "106         I'm having severe chest pain, please help!  LABEL_0\n",
            "14   Can you inform the doctor that I have a new sy...  LABEL_1\n",
            "92   I want to leave a message for the doctor about...  LABEL_1\n",
            "179          I got hit in the face, it's an emergency!  LABEL_0\n",
            "102                I can't breathe, it's an emergency!  LABEL_0\n",
            "\n",
            "[188 rows x 2 columns]\n"
          ]
        }
      ],
      "source": [
        "df = df.sample(frac = 1)\n",
        "\n",
        "# print the shuffled DataFrame\n",
        "print(\"\\nShuffled DataFrame:\")\n",
        "print(df)"
      ]
    },
    {
      "cell_type": "code",
      "execution_count": null,
      "metadata": {
        "id": "1Y6oA6OkKJHK"
      },
      "outputs": [],
      "source": [
        "!pip install datasets\n",
        "import datasets"
      ]
    },
    {
      "cell_type": "code",
      "execution_count": null,
      "metadata": {
        "id": "ZhRAMWMUKJHK"
      },
      "outputs": [],
      "source": [
        "from datasets import load_dataset, Dataset\n",
        "from sklearn.model_selection import train_test_split\n",
        "\n",
        "# Convert the DataFrame to a Hugging Face Dataset\n",
        "dataset = Dataset.from_pandas(df)\n",
        "\n",
        "# Split the dataset into training and validation sets\n",
        "train_dataset, val_dataset = train_test_split(dataset, test_size=0.1)\n",
        "\n",
        "# Convert to Hugging Face datasets\n",
        "train_dataset = Dataset.from_dict(train_dataset)\n",
        "val_dataset = Dataset.from_dict(val_dataset)\n"
      ]
    },
    {
      "cell_type": "code",
      "execution_count": null,
      "metadata": {
        "colab": {
          "base_uri": "https://localhost:8080/",
          "height": 98,
          "referenced_widgets": [
            "74244dbd78c34ca9a473ed67aa0f3f54",
            "54b92ac3369544ffab1ff97136e6626a",
            "e12c1f0399d24af7ae3eb9d38330334a",
            "9519bc9205924e1d80c1421a988febb9",
            "5de82f615f6d48d092d5bbf9e5d094c4",
            "0809634fac6446ff8cb34d0bd1a0f361",
            "1f6034acaefd4cd88a4bc08257e0b01c",
            "d550997734224292a1620378f25ab006",
            "df7e5e9eb976459a9beaf0ff224fcb9d",
            "d38507fd5e2140f88b4fb4b8cf387079",
            "f9582857076640e2b16f5790cca6e3a1",
            "359b5cccccf34313803025330058fa7e",
            "0a67fef5efb5430dacf621437cfb025e",
            "95c4f129c1cd404f949e5d0dac863217",
            "e5e1aeffbf4b4078aaf701b2a5f3a4d9",
            "33324b147063499298c4368a8b368769",
            "15a80e5ecc6a407588a4fca07807f6b6",
            "1be07a05612d44899523ddfcfb81c2ad",
            "2671d82ac1d7426c84aef3454e1ffb2c",
            "b12c5581a9624cf4af4d031bf88166db",
            "47e615d48777456db513f8f41f326fa6",
            "e443c9a97c8343febc2cd80ba7ede552"
          ]
        },
        "id": "cUEV4fGeKJHK",
        "outputId": "28a785e7-e644-48e4-897e-6232469480fb"
      },
      "outputs": [
        {
          "data": {
            "application/vnd.jupyter.widget-view+json": {
              "model_id": "74244dbd78c34ca9a473ed67aa0f3f54",
              "version_major": 2,
              "version_minor": 0
            },
            "text/plain": [
              "Map:   0%|          | 0/169 [00:00<?, ? examples/s]"
            ]
          },
          "metadata": {},
          "output_type": "display_data"
        },
        {
          "data": {
            "application/vnd.jupyter.widget-view+json": {
              "model_id": "359b5cccccf34313803025330058fa7e",
              "version_major": 2,
              "version_minor": 0
            },
            "text/plain": [
              "Map:   0%|          | 0/19 [00:00<?, ? examples/s]"
            ]
          },
          "metadata": {},
          "output_type": "display_data"
        },
        {
          "name": "stdout",
          "output_type": "stream",
          "text": [
            "{'text': 'I was electrocuted, I need help!', 'label': 0, '__index_level_0__': 133}\n"
          ]
        }
      ],
      "source": [
        "# Mapping string labels to integers\n",
        "label_mapping = {\"LABEL_0\": 0, \"LABEL_1\": 1}\n",
        "\n",
        "# Apply the mapping to your dataset\n",
        "def encode_labels(example):\n",
        "    example['label'] = label_mapping[example['label']]\n",
        "    return example\n",
        "\n",
        "# Apply the label encoding to the train and validation datasets\n",
        "train_dataset = train_dataset.map(encode_labels)\n",
        "val_dataset = val_dataset.map(encode_labels)\n",
        "\n",
        "# Check the first few examples to ensure labels are now integers\n",
        "print(train_dataset[0])\n"
      ]
    },
    {
      "cell_type": "code",
      "execution_count": null,
      "metadata": {
        "colab": {
          "base_uri": "https://localhost:8080/",
          "height": 81,
          "referenced_widgets": [
            "ca39f3c8326844a09e2f645d593e59ab",
            "becf66fb256d44b68eccfb54053f8126",
            "c42c9079979e44f0a04238fbb7941b46",
            "cd38215f458342f5b3c730ef5d622cf9",
            "fb95268347b04f49a0345260bdaf69f1",
            "d6ec7e47a7e74d5a84a6a29e0329676b",
            "91a2d3cff10c4600b4cfc4515867bdb4",
            "57828eaa2abc4a70b8f08abdd9900071",
            "62d28361786b4d08b18ecc8093572049",
            "602935cf801e4727bc8d2b078420ea53",
            "9739a64122674ceb97925092b320cf23",
            "456e4e4e1eb74aea9d9239e7b54435a5",
            "8bae6c6f429e4d9a9f1adc04ef09197a",
            "c8705e730c4f4b3b9d206ea687e71770",
            "f51ebf1b616b4fb1b4a5d28697306299",
            "708367426f1e4770a946ddfe46e57a44",
            "ad1b7fff8bff4703a083d3f3db6af640",
            "2afac9351b364fa883e9eaab8cac112f",
            "6a2f4d5cb9cc4ff7a223dc249af75d54",
            "3ea45bc0373842c5bfe23e70e16f0f73",
            "a26779dcb0aa44469e1341cd20c6a65f",
            "73ea289d5088467aaafe9eb454e04a3c"
          ]
        },
        "id": "tpwM64nrKJHK",
        "outputId": "4a7a5b4f-5fb8-4100-a581-02a324121292"
      },
      "outputs": [
        {
          "data": {
            "application/vnd.jupyter.widget-view+json": {
              "model_id": "ca39f3c8326844a09e2f645d593e59ab",
              "version_major": 2,
              "version_minor": 0
            },
            "text/plain": [
              "Map:   0%|          | 0/169 [00:00<?, ? examples/s]"
            ]
          },
          "metadata": {},
          "output_type": "display_data"
        },
        {
          "data": {
            "application/vnd.jupyter.widget-view+json": {
              "model_id": "456e4e4e1eb74aea9d9239e7b54435a5",
              "version_major": 2,
              "version_minor": 0
            },
            "text/plain": [
              "Map:   0%|          | 0/19 [00:00<?, ? examples/s]"
            ]
          },
          "metadata": {},
          "output_type": "display_data"
        }
      ],
      "source": [
        "from transformers import BertTokenizer\n",
        "\n",
        "# Load the BERT tokenizer\n",
        "tokenizer = BertTokenizer.from_pretrained('bert-base-uncased')\n",
        "\n",
        "def tokenize_function(examples):\n",
        "    return tokenizer(examples['text'], padding=\"max_length\", truncation=True)\n",
        "\n",
        "# Apply the tokenizer to the datasets\n",
        "tokenized_train = train_dataset.map(tokenize_function, batched=True)\n",
        "tokenized_val = val_dataset.map(tokenize_function, batched=True)\n"
      ]
    },
    {
      "cell_type": "code",
      "execution_count": null,
      "metadata": {
        "colab": {
          "base_uri": "https://localhost:8080/"
        },
        "id": "FdpRY32IKJHL",
        "outputId": "e7c01b42-43c9-42ca-fd92-dc46aa575212"
      },
      "outputs": [
        {
          "name": "stderr",
          "output_type": "stream",
          "text": [
            "Some weights of BertForSequenceClassification were not initialized from the model checkpoint at bert-base-uncased and are newly initialized: ['classifier.bias', 'classifier.weight']\n",
            "You should probably TRAIN this model on a down-stream task to be able to use it for predictions and inference.\n"
          ]
        }
      ],
      "source": [
        "from transformers import BertForSequenceClassification, TrainingArguments, Trainer\n",
        "\n",
        "# Load the BERT model for sequence classification\n",
        "model = BertForSequenceClassification.from_pretrained('bert-base-uncased', num_labels=2)"
      ]
    },
    {
      "cell_type": "code",
      "execution_count": null,
      "metadata": {
        "colab": {
          "base_uri": "https://localhost:8080/"
        },
        "id": "0Og_CZV8KJHL",
        "outputId": "83c5c9bc-c204-4e21-c371-f2e1fe4b82dd"
      },
      "outputs": [
        {
          "name": "stderr",
          "output_type": "stream",
          "text": [
            "/usr/local/lib/python3.10/dist-packages/transformers/training_args.py:1494: FutureWarning: `evaluation_strategy` is deprecated and will be removed in version 4.46 of 🤗 Transformers. Use `eval_strategy` instead\n",
            "  warnings.warn(\n"
          ]
        }
      ],
      "source": [
        "training_args = TrainingArguments(\n",
        "    output_dir='./results',          # Output directory\n",
        "    evaluation_strategy=\"epoch\",     # Evaluate after each epoch\n",
        "    learning_rate=2e-5,              # Learning rate\n",
        "    per_device_train_batch_size=16,  # Batch size for training\n",
        "    per_device_eval_batch_size=16,   # Batch size for evaluation\n",
        "    num_train_epochs=3,              # Number of training epochs\n",
        "    weight_decay=0.01,               # Strength of weight decay\n",
        ")\n"
      ]
    },
    {
      "cell_type": "code",
      "execution_count": null,
      "metadata": {
        "id": "8X-fgAehKJHL"
      },
      "outputs": [],
      "source": [
        "trainer2 = Trainer(\n",
        "    model=model,                         # The instantiated 🤗 Transformers model to be trained\n",
        "    args=training_args,                  # Training arguments, defined above\n",
        "    train_dataset=tokenized_train,       # Training dataset\n",
        "    eval_dataset=tokenized_val,          # Evaluation dataset\n",
        ")\n"
      ]
    },
    {
      "cell_type": "code",
      "execution_count": null,
      "metadata": {
        "colab": {
          "base_uri": "https://localhost:8080/",
          "height": 204
        },
        "id": "qZiD8KVbKJHT",
        "outputId": "8dc2f48c-2549-43e2-ec13-48a70a5f341d"
      },
      "outputs": [
        {
          "data": {
            "text/html": [
              "\n",
              "    <div>\n",
              "      \n",
              "      <progress value='33' max='33' style='width:300px; height:20px; vertical-align: middle;'></progress>\n",
              "      [33/33 00:51, Epoch 3/3]\n",
              "    </div>\n",
              "    <table border=\"1\" class=\"dataframe\">\n",
              "  <thead>\n",
              " <tr style=\"text-align: left;\">\n",
              "      <th>Epoch</th>\n",
              "      <th>Training Loss</th>\n",
              "      <th>Validation Loss</th>\n",
              "    </tr>\n",
              "  </thead>\n",
              "  <tbody>\n",
              "    <tr>\n",
              "      <td>1</td>\n",
              "      <td>No log</td>\n",
              "      <td>0.287462</td>\n",
              "    </tr>\n",
              "    <tr>\n",
              "      <td>2</td>\n",
              "      <td>No log</td>\n",
              "      <td>0.164117</td>\n",
              "    </tr>\n",
              "    <tr>\n",
              "      <td>3</td>\n",
              "      <td>No log</td>\n",
              "      <td>0.116913</td>\n",
              "    </tr>\n",
              "  </tbody>\n",
              "</table><p>"
            ],
            "text/plain": [
              "<IPython.core.display.HTML object>"
            ]
          },
          "metadata": {},
          "output_type": "display_data"
        },
        {
          "data": {
            "text/plain": [
              "TrainOutput(global_step=33, training_loss=0.2531430793531013, metrics={'train_runtime': 52.4567, 'train_samples_per_second': 9.665, 'train_steps_per_second': 0.629, 'total_flos': 133397305067520.0, 'train_loss': 0.2531430793531013, 'epoch': 3.0})"
            ]
          },
          "execution_count": 26,
          "metadata": {},
          "output_type": "execute_result"
        }
      ],
      "source": [
        "trainer2.train()"
      ]
    },
    {
      "cell_type": "code",
      "execution_count": null,
      "metadata": {
        "colab": {
          "base_uri": "https://localhost:8080/",
          "height": 124
        },
        "id": "4Q5rD7vQK7Ke",
        "outputId": "2cd4585c-848d-42cc-e05c-cd661c8dc126"
      },
      "outputs": [
        {
          "data": {
            "text/html": [
              "\n",
              "    <div>\n",
              "      \n",
              "      <progress value='2' max='2' style='width:300px; height:20px; vertical-align: middle;'></progress>\n",
              "      [2/2 00:00]\n",
              "    </div>\n",
              "    "
            ],
            "text/plain": [
              "<IPython.core.display.HTML object>"
            ]
          },
          "metadata": {},
          "output_type": "display_data"
        },
        {
          "data": {
            "text/plain": [
              "{'eval_loss': 0.1169126033782959,\n",
              " 'eval_runtime': 0.684,\n",
              " 'eval_samples_per_second': 27.778,\n",
              " 'eval_steps_per_second': 2.924,\n",
              " 'epoch': 3.0}"
            ]
          },
          "execution_count": 27,
          "metadata": {},
          "output_type": "execute_result"
        }
      ],
      "source": [
        "trainer2.evaluate()"
      ]
    },
    {
      "cell_type": "code",
      "execution_count": null,
      "metadata": {
        "colab": {
          "base_uri": "https://localhost:8080/",
          "height": 124
        },
        "id": "Mcl1BIdjKJHT",
        "outputId": "df657af6-9266-4125-9ca0-43ebde32e535"
      },
      "outputs": [
        {
          "data": {
            "text/html": [
              "\n",
              "    <div>\n",
              "      \n",
              "      <progress value='1' max='1' style='width:300px; height:20px; vertical-align: middle;'></progress>\n",
              "      [1/1 : < :]\n",
              "    </div>\n",
              "    "
            ],
            "text/plain": [
              "<IPython.core.display.HTML object>"
            ]
          },
          "metadata": {},
          "output_type": "display_data"
        },
        {
          "data": {
            "text/plain": [
              "{'eval_loss': 0.30385786294937134,\n",
              " 'eval_runtime': 0.3326,\n",
              " 'eval_samples_per_second': 30.068,\n",
              " 'eval_steps_per_second': 3.007,\n",
              " 'epoch': 3.0}"
            ]
          },
          "execution_count": 16,
          "metadata": {},
          "output_type": "execute_result"
        }
      ],
      "source": [
        "trainer.evaluate()"
      ]
    },
    {
      "cell_type": "code",
      "execution_count": null,
      "metadata": {
        "colab": {
          "base_uri": "https://localhost:8080/"
        },
        "id": "JlnKDS8mJnA7",
        "outputId": "c5a807c3-81f0-48d1-d992-1247f45429a5"
      },
      "outputs": [
        {
          "data": {
            "text/plain": [
              "('./fine-tuned-bert/tokenizer_config.json',\n",
              " './fine-tuned-bert/special_tokens_map.json',\n",
              " './fine-tuned-bert/vocab.txt',\n",
              " './fine-tuned-bert/added_tokens.json')"
            ]
          },
          "execution_count": 28,
          "metadata": {},
          "output_type": "execute_result"
        }
      ],
      "source": [
        "model.save_pretrained('./fine-tuned-bert')\n",
        "tokenizer.save_pretrained('./fine-tuned-bert')"
      ]
    },
    {
      "cell_type": "code",
      "execution_count": null,
      "metadata": {
        "id": "DIZkKC2-KE2q"
      },
      "outputs": [],
      "source": []
    },
    {
      "cell_type": "code",
      "execution_count": null,
      "metadata": {
        "colab": {
          "base_uri": "https://localhost:8080/"
        },
        "id": "Tar4W8WILRPK",
        "outputId": "8d9e2217-a318-4e78-8d5f-220c3d4301db"
      },
      "outputs": [
        {
          "name": "stderr",
          "output_type": "stream",
          "text": [
            "Hardware accelerator e.g. GPU is available in the environment, but no `device` argument is passed to the `Pipeline` object. Model will be on CPU.\n"
          ]
        }
      ],
      "source": [
        "from transformers import BertForSequenceClassification, BertTokenizer, pipeline\n",
        "\n",
        "# Load the fine-tuned model and tokenizer\n",
        "model = BertForSequenceClassification.from_pretrained('/content/fine-tuned-bert')\n",
        "tokenizer = BertTokenizer.from_pretrained('/content/fine-tuned-bert')\n",
        "\n",
        "# Create a text classification pipeline\n",
        "nlp_pipeline = pipeline(\"text-classification\", model=model, tokenizer=tokenizer)\n"
      ]
    },
    {
      "cell_type": "code",
      "execution_count": null,
      "metadata": {
        "colab": {
          "base_uri": "https://localhost:8080/"
        },
        "id": "kKyJ18K9LSZC",
        "outputId": "0bf2f26b-1674-4b70-97e0-2222a8d6a0d2"
      },
      "outputs": [
        {
          "name": "stdout",
          "output_type": "stream",
          "text": [
            "Input: I want to leave a message for the doctor \n",
            "Predicted Intent: LABEL_1 \n",
            "Confidence: 0.8632\n",
            "\n",
            "Input: I'm having an emergency, please help! \n",
            "Predicted Intent: LABEL_0 \n",
            "Confidence: 0.9458\n",
            "\n",
            "Input: Can you let the doctor know I'm not feeling well? \n",
            "Predicted Intent: LABEL_1 \n",
            "Confidence: 0.8708\n",
            "\n",
            "Input: I need immediate assistance, it's an emergency! \n",
            "Predicted Intent: LABEL_0 \n",
            "Confidence: 0.9481\n",
            "\n",
            "Input: Please pass this message to Dr. Adrin \n",
            "Predicted Intent: LABEL_1 \n",
            "Confidence: 0.8584\n",
            "\n",
            "Input: I think I'm having a heart attack! \n",
            "Predicted Intent: LABEL_0 \n",
            "Confidence: 0.9386\n",
            "\n",
            "Input: I want to reschedule my appointment \n",
            "Predicted Intent: LABEL_1 \n",
            "Confidence: 0.8373\n",
            "\n",
            "Input: I can't breathe, it's an emergency! \n",
            "Predicted Intent: LABEL_0 \n",
            "Confidence: 0.9443\n",
            "\n",
            "Input: I need to ask the doctor about my medication \n",
            "Predicted Intent: LABEL_1 \n",
            "Confidence: 0.8554\n",
            "\n",
            "Input: Help, I've had a severe accident! \n",
            "Predicted Intent: LABEL_0 \n",
            "Confidence: 0.9444\n",
            "\n"
          ]
        }
      ],
      "source": [
        "# Example sentences for testing\n",
        "examples = [\n",
        "    \"I want to leave a message for the doctor\",\n",
        "    \"I'm having an emergency, please help!\",\n",
        "    \"Can you let the doctor know I'm not feeling well?\",\n",
        "    \"I need immediate assistance, it's an emergency!\",\n",
        "    \"Please pass this message to Dr. Adrin\",\n",
        "    \"I think I'm having a heart attack!\",\n",
        "    \"I want to reschedule my appointment\",\n",
        "    \"I can't breathe, it's an emergency!\",\n",
        "    \"I need to ask the doctor about my medication\",\n",
        "    \"Help, I've had a severe accident!\"\n",
        "]\n",
        "\n",
        "# Test the model on each example\n",
        "for text in examples:\n",
        "    result = nlp_pipeline(text)\n",
        "    print(f\"Input: {text} \\nPredicted Intent: {result[0]['label']} \\nConfidence: {result[0]['score']:.4f}\\n\")\n"
      ]
    },
    {
      "cell_type": "code",
      "execution_count": null,
      "metadata": {
        "colab": {
          "base_uri": "https://localhost:8080/",
          "height": 34
        },
        "id": "T1jrxcgRLeSS",
        "outputId": "77b163ed-5fed-43f1-dc1b-edceadc38030"
      },
      "outputs": [
        {
          "data": {
            "application/javascript": [
              "\n",
              "    async function download(id, filename, size) {\n",
              "      if (!google.colab.kernel.accessAllowed) {\n",
              "        return;\n",
              "      }\n",
              "      const div = document.createElement('div');\n",
              "      const label = document.createElement('label');\n",
              "      label.textContent = `Downloading \"${filename}\": `;\n",
              "      div.appendChild(label);\n",
              "      const progress = document.createElement('progress');\n",
              "      progress.max = size;\n",
              "      div.appendChild(progress);\n",
              "      document.body.appendChild(div);\n",
              "\n",
              "      const buffers = [];\n",
              "      let downloaded = 0;\n",
              "\n",
              "      const channel = await google.colab.kernel.comms.open(id);\n",
              "      // Send a message to notify the kernel that we're ready.\n",
              "      channel.send({})\n",
              "\n",
              "      for await (const message of channel.messages) {\n",
              "        // Send a message to notify the kernel that we're ready.\n",
              "        channel.send({})\n",
              "        if (message.buffers) {\n",
              "          for (const buffer of message.buffers) {\n",
              "            buffers.push(buffer);\n",
              "            downloaded += buffer.byteLength;\n",
              "            progress.value = downloaded;\n",
              "          }\n",
              "        }\n",
              "      }\n",
              "      const blob = new Blob(buffers, {type: 'application/binary'});\n",
              "      const a = document.createElement('a');\n",
              "      a.href = window.URL.createObjectURL(blob);\n",
              "      a.download = filename;\n",
              "      div.appendChild(a);\n",
              "      a.click();\n",
              "      div.remove();\n",
              "    }\n",
              "  "
            ],
            "text/plain": [
              "<IPython.core.display.Javascript object>"
            ]
          },
          "metadata": {},
          "output_type": "display_data"
        },
        {
          "data": {
            "application/javascript": [
              "download(\"download_9d6ea55a-d401-4c95-ba7a-4432d97e2180\", \"model.safetensors\", 437958648)"
            ],
            "text/plain": [
              "<IPython.core.display.Javascript object>"
            ]
          },
          "metadata": {},
          "output_type": "display_data"
        },
        {
          "data": {
            "application/javascript": [
              "\n",
              "    async function download(id, filename, size) {\n",
              "      if (!google.colab.kernel.accessAllowed) {\n",
              "        return;\n",
              "      }\n",
              "      const div = document.createElement('div');\n",
              "      const label = document.createElement('label');\n",
              "      label.textContent = `Downloading \"${filename}\": `;\n",
              "      div.appendChild(label);\n",
              "      const progress = document.createElement('progress');\n",
              "      progress.max = size;\n",
              "      div.appendChild(progress);\n",
              "      document.body.appendChild(div);\n",
              "\n",
              "      const buffers = [];\n",
              "      let downloaded = 0;\n",
              "\n",
              "      const channel = await google.colab.kernel.comms.open(id);\n",
              "      // Send a message to notify the kernel that we're ready.\n",
              "      channel.send({})\n",
              "\n",
              "      for await (const message of channel.messages) {\n",
              "        // Send a message to notify the kernel that we're ready.\n",
              "        channel.send({})\n",
              "        if (message.buffers) {\n",
              "          for (const buffer of message.buffers) {\n",
              "            buffers.push(buffer);\n",
              "            downloaded += buffer.byteLength;\n",
              "            progress.value = downloaded;\n",
              "          }\n",
              "        }\n",
              "      }\n",
              "      const blob = new Blob(buffers, {type: 'application/binary'});\n",
              "      const a = document.createElement('a');\n",
              "      a.href = window.URL.createObjectURL(blob);\n",
              "      a.download = filename;\n",
              "      div.appendChild(a);\n",
              "      a.click();\n",
              "      div.remove();\n",
              "    }\n",
              "  "
            ],
            "text/plain": [
              "<IPython.core.display.Javascript object>"
            ]
          },
          "metadata": {},
          "output_type": "display_data"
        },
        {
          "data": {
            "application/javascript": [
              "download(\"download_4396a9a1-4cd2-46a3-bc85-2f32779e4130\", \"config.json\", 727)"
            ],
            "text/plain": [
              "<IPython.core.display.Javascript object>"
            ]
          },
          "metadata": {},
          "output_type": "display_data"
        },
        {
          "data": {
            "application/javascript": [
              "\n",
              "    async function download(id, filename, size) {\n",
              "      if (!google.colab.kernel.accessAllowed) {\n",
              "        return;\n",
              "      }\n",
              "      const div = document.createElement('div');\n",
              "      const label = document.createElement('label');\n",
              "      label.textContent = `Downloading \"${filename}\": `;\n",
              "      div.appendChild(label);\n",
              "      const progress = document.createElement('progress');\n",
              "      progress.max = size;\n",
              "      div.appendChild(progress);\n",
              "      document.body.appendChild(div);\n",
              "\n",
              "      const buffers = [];\n",
              "      let downloaded = 0;\n",
              "\n",
              "      const channel = await google.colab.kernel.comms.open(id);\n",
              "      // Send a message to notify the kernel that we're ready.\n",
              "      channel.send({})\n",
              "\n",
              "      for await (const message of channel.messages) {\n",
              "        // Send a message to notify the kernel that we're ready.\n",
              "        channel.send({})\n",
              "        if (message.buffers) {\n",
              "          for (const buffer of message.buffers) {\n",
              "            buffers.push(buffer);\n",
              "            downloaded += buffer.byteLength;\n",
              "            progress.value = downloaded;\n",
              "          }\n",
              "        }\n",
              "      }\n",
              "      const blob = new Blob(buffers, {type: 'application/binary'});\n",
              "      const a = document.createElement('a');\n",
              "      a.href = window.URL.createObjectURL(blob);\n",
              "      a.download = filename;\n",
              "      div.appendChild(a);\n",
              "      a.click();\n",
              "      div.remove();\n",
              "    }\n",
              "  "
            ],
            "text/plain": [
              "<IPython.core.display.Javascript object>"
            ]
          },
          "metadata": {},
          "output_type": "display_data"
        },
        {
          "data": {
            "application/javascript": [
              "download(\"download_87b17b6f-70d0-45df-aee1-309f9c9e882c\", \"special_tokens_map.json\", 125)"
            ],
            "text/plain": [
              "<IPython.core.display.Javascript object>"
            ]
          },
          "metadata": {},
          "output_type": "display_data"
        },
        {
          "data": {
            "application/javascript": [
              "\n",
              "    async function download(id, filename, size) {\n",
              "      if (!google.colab.kernel.accessAllowed) {\n",
              "        return;\n",
              "      }\n",
              "      const div = document.createElement('div');\n",
              "      const label = document.createElement('label');\n",
              "      label.textContent = `Downloading \"${filename}\": `;\n",
              "      div.appendChild(label);\n",
              "      const progress = document.createElement('progress');\n",
              "      progress.max = size;\n",
              "      div.appendChild(progress);\n",
              "      document.body.appendChild(div);\n",
              "\n",
              "      const buffers = [];\n",
              "      let downloaded = 0;\n",
              "\n",
              "      const channel = await google.colab.kernel.comms.open(id);\n",
              "      // Send a message to notify the kernel that we're ready.\n",
              "      channel.send({})\n",
              "\n",
              "      for await (const message of channel.messages) {\n",
              "        // Send a message to notify the kernel that we're ready.\n",
              "        channel.send({})\n",
              "        if (message.buffers) {\n",
              "          for (const buffer of message.buffers) {\n",
              "            buffers.push(buffer);\n",
              "            downloaded += buffer.byteLength;\n",
              "            progress.value = downloaded;\n",
              "          }\n",
              "        }\n",
              "      }\n",
              "      const blob = new Blob(buffers, {type: 'application/binary'});\n",
              "      const a = document.createElement('a');\n",
              "      a.href = window.URL.createObjectURL(blob);\n",
              "      a.download = filename;\n",
              "      div.appendChild(a);\n",
              "      a.click();\n",
              "      div.remove();\n",
              "    }\n",
              "  "
            ],
            "text/plain": [
              "<IPython.core.display.Javascript object>"
            ]
          },
          "metadata": {},
          "output_type": "display_data"
        },
        {
          "data": {
            "application/javascript": [
              "download(\"download_369ca084-7d4c-41a1-82cd-c92c747bffda\", \"tokenizer_config.json\", 1242)"
            ],
            "text/plain": [
              "<IPython.core.display.Javascript object>"
            ]
          },
          "metadata": {},
          "output_type": "display_data"
        },
        {
          "data": {
            "application/javascript": [
              "\n",
              "    async function download(id, filename, size) {\n",
              "      if (!google.colab.kernel.accessAllowed) {\n",
              "        return;\n",
              "      }\n",
              "      const div = document.createElement('div');\n",
              "      const label = document.createElement('label');\n",
              "      label.textContent = `Downloading \"${filename}\": `;\n",
              "      div.appendChild(label);\n",
              "      const progress = document.createElement('progress');\n",
              "      progress.max = size;\n",
              "      div.appendChild(progress);\n",
              "      document.body.appendChild(div);\n",
              "\n",
              "      const buffers = [];\n",
              "      let downloaded = 0;\n",
              "\n",
              "      const channel = await google.colab.kernel.comms.open(id);\n",
              "      // Send a message to notify the kernel that we're ready.\n",
              "      channel.send({})\n",
              "\n",
              "      for await (const message of channel.messages) {\n",
              "        // Send a message to notify the kernel that we're ready.\n",
              "        channel.send({})\n",
              "        if (message.buffers) {\n",
              "          for (const buffer of message.buffers) {\n",
              "            buffers.push(buffer);\n",
              "            downloaded += buffer.byteLength;\n",
              "            progress.value = downloaded;\n",
              "          }\n",
              "        }\n",
              "      }\n",
              "      const blob = new Blob(buffers, {type: 'application/binary'});\n",
              "      const a = document.createElement('a');\n",
              "      a.href = window.URL.createObjectURL(blob);\n",
              "      a.download = filename;\n",
              "      div.appendChild(a);\n",
              "      a.click();\n",
              "      div.remove();\n",
              "    }\n",
              "  "
            ],
            "text/plain": [
              "<IPython.core.display.Javascript object>"
            ]
          },
          "metadata": {},
          "output_type": "display_data"
        },
        {
          "data": {
            "application/javascript": [
              "download(\"download_f79b1a56-1e0e-4758-ab65-1775b2904844\", \"vocab.txt\", 231508)"
            ],
            "text/plain": [
              "<IPython.core.display.Javascript object>"
            ]
          },
          "metadata": {},
          "output_type": "display_data"
        }
      ],
      "source": [
        "from google.colab import files\n",
        "\n",
        "files.download('/content/fine-tuned-bert/model.safetensors')\n",
        "files.download('/content/fine-tuned-bert/config.json')\n",
        "files.download('/content/fine-tuned-bert/special_tokens_map.json')\n",
        "files.download('/content/fine-tuned-bert/tokenizer_config.json')\n",
        "files.download('/content/fine-tuned-bert/vocab.txt')\n"
      ]
    },
    {
      "cell_type": "code",
      "execution_count": null,
      "metadata": {
        "colab": {
          "background_save": true
        },
        "id": "P3Cb7f4KL946",
        "outputId": "dfba7bfd-135b-44cd-dd7c-29cffd4397e4"
      },
      "outputs": [
        {
          "ename": "SyntaxError",
          "evalue": "invalid syntax (<ipython-input-35-f92cf9af75d6>, line 1)",
          "output_type": "error",
          "traceback": [
            "\u001b[0;36m  File \u001b[0;32m\"<ipython-input-35-f92cf9af75d6>\"\u001b[0;36m, line \u001b[0;32m1\u001b[0m\n\u001b[0;31m    unzip fine-tuned-bert.zip -d /path/to/your/project/models/fine-tuned-bert/\u001b[0m\n\u001b[0m          ^\u001b[0m\n\u001b[0;31mSyntaxError\u001b[0m\u001b[0;31m:\u001b[0m invalid syntax\n"
          ]
        }
      ],
      "source": [
        "unzip fine-tuned-bert.zip -d /path/to/your/project/models/fine-tuned-bert/"
      ]
    }
  ],
  "metadata": {
    "accelerator": "GPU",
    "colab": {
      "gpuType": "T4",
      "provenance": []
    },
    "kernelspec": {
      "display_name": "Python 3",
      "name": "python3"
    },
    "language_info": {
      "name": "python"
    },
    "widgets": {
      "application/vnd.jupyter.widget-state+json": {
        "0048abe51abc4aec8ad954efec99e214": {
          "model_module": "@jupyter-widgets/base",
          "model_module_version": "1.2.0",
          "model_name": "LayoutModel",
          "state": {
            "_model_module": "@jupyter-widgets/base",
            "_model_module_version": "1.2.0",
            "_model_name": "LayoutModel",
            "_view_count": null,
            "_view_module": "@jupyter-widgets/base",
            "_view_module_version": "1.2.0",
            "_view_name": "LayoutView",
            "align_content": null,
            "align_items": null,
            "align_self": null,
            "border": null,
            "bottom": null,
            "display": null,
            "flex": null,
            "flex_flow": null,
            "grid_area": null,
            "grid_auto_columns": null,
            "grid_auto_flow": null,
            "grid_auto_rows": null,
            "grid_column": null,
            "grid_gap": null,
            "grid_row": null,
            "grid_template_areas": null,
            "grid_template_columns": null,
            "grid_template_rows": null,
            "height": null,
            "justify_content": null,
            "justify_items": null,
            "left": null,
            "margin": null,
            "max_height": null,
            "max_width": null,
            "min_height": null,
            "min_width": null,
            "object_fit": null,
            "object_position": null,
            "order": null,
            "overflow": null,
            "overflow_x": null,
            "overflow_y": null,
            "padding": null,
            "right": null,
            "top": null,
            "visibility": null,
            "width": null
          }
        },
        "0809634fac6446ff8cb34d0bd1a0f361": {
          "model_module": "@jupyter-widgets/base",
          "model_module_version": "1.2.0",
          "model_name": "LayoutModel",
          "state": {
            "_model_module": "@jupyter-widgets/base",
            "_model_module_version": "1.2.0",
            "_model_name": "LayoutModel",
            "_view_count": null,
            "_view_module": "@jupyter-widgets/base",
            "_view_module_version": "1.2.0",
            "_view_name": "LayoutView",
            "align_content": null,
            "align_items": null,
            "align_self": null,
            "border": null,
            "bottom": null,
            "display": null,
            "flex": null,
            "flex_flow": null,
            "grid_area": null,
            "grid_auto_columns": null,
            "grid_auto_flow": null,
            "grid_auto_rows": null,
            "grid_column": null,
            "grid_gap": null,
            "grid_row": null,
            "grid_template_areas": null,
            "grid_template_columns": null,
            "grid_template_rows": null,
            "height": null,
            "justify_content": null,
            "justify_items": null,
            "left": null,
            "margin": null,
            "max_height": null,
            "max_width": null,
            "min_height": null,
            "min_width": null,
            "object_fit": null,
            "object_position": null,
            "order": null,
            "overflow": null,
            "overflow_x": null,
            "overflow_y": null,
            "padding": null,
            "right": null,
            "top": null,
            "visibility": null,
            "width": null
          }
        },
        "08d960d7aa7e4b43822fada25c03eff7": {
          "model_module": "@jupyter-widgets/controls",
          "model_module_version": "1.5.0",
          "model_name": "ProgressStyleModel",
          "state": {
            "_model_module": "@jupyter-widgets/controls",
            "_model_module_version": "1.5.0",
            "_model_name": "ProgressStyleModel",
            "_view_count": null,
            "_view_module": "@jupyter-widgets/base",
            "_view_module_version": "1.2.0",
            "_view_name": "StyleView",
            "bar_color": null,
            "description_width": ""
          }
        },
        "0a67fef5efb5430dacf621437cfb025e": {
          "model_module": "@jupyter-widgets/controls",
          "model_module_version": "1.5.0",
          "model_name": "HTMLModel",
          "state": {
            "_dom_classes": [],
            "_model_module": "@jupyter-widgets/controls",
            "_model_module_version": "1.5.0",
            "_model_name": "HTMLModel",
            "_view_count": null,
            "_view_module": "@jupyter-widgets/controls",
            "_view_module_version": "1.5.0",
            "_view_name": "HTMLView",
            "description": "",
            "description_tooltip": null,
            "layout": "IPY_MODEL_15a80e5ecc6a407588a4fca07807f6b6",
            "placeholder": "​",
            "style": "IPY_MODEL_1be07a05612d44899523ddfcfb81c2ad",
            "value": "Map: 100%"
          }
        },
        "15450e7aa18f4018b530f5c307c704ea": {
          "model_module": "@jupyter-widgets/controls",
          "model_module_version": "1.5.0",
          "model_name": "FloatProgressModel",
          "state": {
            "_dom_classes": [],
            "_model_module": "@jupyter-widgets/controls",
            "_model_module_version": "1.5.0",
            "_model_name": "FloatProgressModel",
            "_view_count": null,
            "_view_module": "@jupyter-widgets/controls",
            "_view_module_version": "1.5.0",
            "_view_name": "ProgressView",
            "bar_style": "success",
            "description": "",
            "description_tooltip": null,
            "layout": "IPY_MODEL_98c6f5aaa27e457d89bf55fdafde6ea0",
            "max": 89,
            "min": 0,
            "orientation": "horizontal",
            "style": "IPY_MODEL_08d960d7aa7e4b43822fada25c03eff7",
            "value": 89
          }
        },
        "15a80e5ecc6a407588a4fca07807f6b6": {
          "model_module": "@jupyter-widgets/base",
          "model_module_version": "1.2.0",
          "model_name": "LayoutModel",
          "state": {
            "_model_module": "@jupyter-widgets/base",
            "_model_module_version": "1.2.0",
            "_model_name": "LayoutModel",
            "_view_count": null,
            "_view_module": "@jupyter-widgets/base",
            "_view_module_version": "1.2.0",
            "_view_name": "LayoutView",
            "align_content": null,
            "align_items": null,
            "align_self": null,
            "border": null,
            "bottom": null,
            "display": null,
            "flex": null,
            "flex_flow": null,
            "grid_area": null,
            "grid_auto_columns": null,
            "grid_auto_flow": null,
            "grid_auto_rows": null,
            "grid_column": null,
            "grid_gap": null,
            "grid_row": null,
            "grid_template_areas": null,
            "grid_template_columns": null,
            "grid_template_rows": null,
            "height": null,
            "justify_content": null,
            "justify_items": null,
            "left": null,
            "margin": null,
            "max_height": null,
            "max_width": null,
            "min_height": null,
            "min_width": null,
            "object_fit": null,
            "object_position": null,
            "order": null,
            "overflow": null,
            "overflow_x": null,
            "overflow_y": null,
            "padding": null,
            "right": null,
            "top": null,
            "visibility": null,
            "width": null
          }
        },
        "15a9fba024ba4482a176d345b303e6c0": {
          "model_module": "@jupyter-widgets/controls",
          "model_module_version": "1.5.0",
          "model_name": "HTMLModel",
          "state": {
            "_dom_classes": [],
            "_model_module": "@jupyter-widgets/controls",
            "_model_module_version": "1.5.0",
            "_model_name": "HTMLModel",
            "_view_count": null,
            "_view_module": "@jupyter-widgets/controls",
            "_view_module_version": "1.5.0",
            "_view_name": "HTMLView",
            "description": "",
            "description_tooltip": null,
            "layout": "IPY_MODEL_d91b9dfd7d7a493a93101202338c1edb",
            "placeholder": "​",
            "style": "IPY_MODEL_4c2e4221dea44c2395c94723dcf5662c",
            "value": "Map: 100%"
          }
        },
        "19f10233394c41779ed738d580fd0049": {
          "model_module": "@jupyter-widgets/base",
          "model_module_version": "1.2.0",
          "model_name": "LayoutModel",
          "state": {
            "_model_module": "@jupyter-widgets/base",
            "_model_module_version": "1.2.0",
            "_model_name": "LayoutModel",
            "_view_count": null,
            "_view_module": "@jupyter-widgets/base",
            "_view_module_version": "1.2.0",
            "_view_name": "LayoutView",
            "align_content": null,
            "align_items": null,
            "align_self": null,
            "border": null,
            "bottom": null,
            "display": null,
            "flex": null,
            "flex_flow": null,
            "grid_area": null,
            "grid_auto_columns": null,
            "grid_auto_flow": null,
            "grid_auto_rows": null,
            "grid_column": null,
            "grid_gap": null,
            "grid_row": null,
            "grid_template_areas": null,
            "grid_template_columns": null,
            "grid_template_rows": null,
            "height": null,
            "justify_content": null,
            "justify_items": null,
            "left": null,
            "margin": null,
            "max_height": null,
            "max_width": null,
            "min_height": null,
            "min_width": null,
            "object_fit": null,
            "object_position": null,
            "order": null,
            "overflow": null,
            "overflow_x": null,
            "overflow_y": null,
            "padding": null,
            "right": null,
            "top": null,
            "visibility": null,
            "width": null
          }
        },
        "1be07a05612d44899523ddfcfb81c2ad": {
          "model_module": "@jupyter-widgets/controls",
          "model_module_version": "1.5.0",
          "model_name": "DescriptionStyleModel",
          "state": {
            "_model_module": "@jupyter-widgets/controls",
            "_model_module_version": "1.5.0",
            "_model_name": "DescriptionStyleModel",
            "_view_count": null,
            "_view_module": "@jupyter-widgets/base",
            "_view_module_version": "1.2.0",
            "_view_name": "StyleView",
            "description_width": ""
          }
        },
        "1d517a2c3439400e91be409eebd80e0e": {
          "model_module": "@jupyter-widgets/controls",
          "model_module_version": "1.5.0",
          "model_name": "HBoxModel",
          "state": {
            "_dom_classes": [],
            "_model_module": "@jupyter-widgets/controls",
            "_model_module_version": "1.5.0",
            "_model_name": "HBoxModel",
            "_view_count": null,
            "_view_module": "@jupyter-widgets/controls",
            "_view_module_version": "1.5.0",
            "_view_name": "HBoxView",
            "box_style": "",
            "children": [
              "IPY_MODEL_d6c3a99aeb494c51aa480196c7a95d65",
              "IPY_MODEL_b99ab12b753a40449635457af47e81b1",
              "IPY_MODEL_502b7d417005422f8f0c5f2cdcdf4feb"
            ],
            "layout": "IPY_MODEL_96ba0eae801d4c3b843542aa0d88ec24"
          }
        },
        "1f6034acaefd4cd88a4bc08257e0b01c": {
          "model_module": "@jupyter-widgets/controls",
          "model_module_version": "1.5.0",
          "model_name": "DescriptionStyleModel",
          "state": {
            "_model_module": "@jupyter-widgets/controls",
            "_model_module_version": "1.5.0",
            "_model_name": "DescriptionStyleModel",
            "_view_count": null,
            "_view_module": "@jupyter-widgets/base",
            "_view_module_version": "1.2.0",
            "_view_name": "StyleView",
            "description_width": ""
          }
        },
        "2671d82ac1d7426c84aef3454e1ffb2c": {
          "model_module": "@jupyter-widgets/base",
          "model_module_version": "1.2.0",
          "model_name": "LayoutModel",
          "state": {
            "_model_module": "@jupyter-widgets/base",
            "_model_module_version": "1.2.0",
            "_model_name": "LayoutModel",
            "_view_count": null,
            "_view_module": "@jupyter-widgets/base",
            "_view_module_version": "1.2.0",
            "_view_name": "LayoutView",
            "align_content": null,
            "align_items": null,
            "align_self": null,
            "border": null,
            "bottom": null,
            "display": null,
            "flex": null,
            "flex_flow": null,
            "grid_area": null,
            "grid_auto_columns": null,
            "grid_auto_flow": null,
            "grid_auto_rows": null,
            "grid_column": null,
            "grid_gap": null,
            "grid_row": null,
            "grid_template_areas": null,
            "grid_template_columns": null,
            "grid_template_rows": null,
            "height": null,
            "justify_content": null,
            "justify_items": null,
            "left": null,
            "margin": null,
            "max_height": null,
            "max_width": null,
            "min_height": null,
            "min_width": null,
            "object_fit": null,
            "object_position": null,
            "order": null,
            "overflow": null,
            "overflow_x": null,
            "overflow_y": null,
            "padding": null,
            "right": null,
            "top": null,
            "visibility": null,
            "width": null
          }
        },
        "2afac9351b364fa883e9eaab8cac112f": {
          "model_module": "@jupyter-widgets/controls",
          "model_module_version": "1.5.0",
          "model_name": "DescriptionStyleModel",
          "state": {
            "_model_module": "@jupyter-widgets/controls",
            "_model_module_version": "1.5.0",
            "_model_name": "DescriptionStyleModel",
            "_view_count": null,
            "_view_module": "@jupyter-widgets/base",
            "_view_module_version": "1.2.0",
            "_view_name": "StyleView",
            "description_width": ""
          }
        },
        "33324b147063499298c4368a8b368769": {
          "model_module": "@jupyter-widgets/base",
          "model_module_version": "1.2.0",
          "model_name": "LayoutModel",
          "state": {
            "_model_module": "@jupyter-widgets/base",
            "_model_module_version": "1.2.0",
            "_model_name": "LayoutModel",
            "_view_count": null,
            "_view_module": "@jupyter-widgets/base",
            "_view_module_version": "1.2.0",
            "_view_name": "LayoutView",
            "align_content": null,
            "align_items": null,
            "align_self": null,
            "border": null,
            "bottom": null,
            "display": null,
            "flex": null,
            "flex_flow": null,
            "grid_area": null,
            "grid_auto_columns": null,
            "grid_auto_flow": null,
            "grid_auto_rows": null,
            "grid_column": null,
            "grid_gap": null,
            "grid_row": null,
            "grid_template_areas": null,
            "grid_template_columns": null,
            "grid_template_rows": null,
            "height": null,
            "justify_content": null,
            "justify_items": null,
            "left": null,
            "margin": null,
            "max_height": null,
            "max_width": null,
            "min_height": null,
            "min_width": null,
            "object_fit": null,
            "object_position": null,
            "order": null,
            "overflow": null,
            "overflow_x": null,
            "overflow_y": null,
            "padding": null,
            "right": null,
            "top": null,
            "visibility": null,
            "width": null
          }
        },
        "359b5cccccf34313803025330058fa7e": {
          "model_module": "@jupyter-widgets/controls",
          "model_module_version": "1.5.0",
          "model_name": "HBoxModel",
          "state": {
            "_dom_classes": [],
            "_model_module": "@jupyter-widgets/controls",
            "_model_module_version": "1.5.0",
            "_model_name": "HBoxModel",
            "_view_count": null,
            "_view_module": "@jupyter-widgets/controls",
            "_view_module_version": "1.5.0",
            "_view_name": "HBoxView",
            "box_style": "",
            "children": [
              "IPY_MODEL_0a67fef5efb5430dacf621437cfb025e",
              "IPY_MODEL_95c4f129c1cd404f949e5d0dac863217",
              "IPY_MODEL_e5e1aeffbf4b4078aaf701b2a5f3a4d9"
            ],
            "layout": "IPY_MODEL_33324b147063499298c4368a8b368769"
          }
        },
        "3ea45bc0373842c5bfe23e70e16f0f73": {
          "model_module": "@jupyter-widgets/controls",
          "model_module_version": "1.5.0",
          "model_name": "ProgressStyleModel",
          "state": {
            "_model_module": "@jupyter-widgets/controls",
            "_model_module_version": "1.5.0",
            "_model_name": "ProgressStyleModel",
            "_view_count": null,
            "_view_module": "@jupyter-widgets/base",
            "_view_module_version": "1.2.0",
            "_view_name": "StyleView",
            "bar_color": null,
            "description_width": ""
          }
        },
        "42863919849d4477b10563f93d7d7aa2": {
          "model_module": "@jupyter-widgets/controls",
          "model_module_version": "1.5.0",
          "model_name": "HTMLModel",
          "state": {
            "_dom_classes": [],
            "_model_module": "@jupyter-widgets/controls",
            "_model_module_version": "1.5.0",
            "_model_name": "HTMLModel",
            "_view_count": null,
            "_view_module": "@jupyter-widgets/controls",
            "_view_module_version": "1.5.0",
            "_view_name": "HTMLView",
            "description": "",
            "description_tooltip": null,
            "layout": "IPY_MODEL_752aa41d64a5496d857ab2af772b29a8",
            "placeholder": "​",
            "style": "IPY_MODEL_7ca168a221ad45089962258cfe18b36f",
            "value": "Map: 100%"
          }
        },
        "4392218f95f545b9b913dd78f857ce92": {
          "model_module": "@jupyter-widgets/controls",
          "model_module_version": "1.5.0",
          "model_name": "DescriptionStyleModel",
          "state": {
            "_model_module": "@jupyter-widgets/controls",
            "_model_module_version": "1.5.0",
            "_model_name": "DescriptionStyleModel",
            "_view_count": null,
            "_view_module": "@jupyter-widgets/base",
            "_view_module_version": "1.2.0",
            "_view_name": "StyleView",
            "description_width": ""
          }
        },
        "456e4e4e1eb74aea9d9239e7b54435a5": {
          "model_module": "@jupyter-widgets/controls",
          "model_module_version": "1.5.0",
          "model_name": "HBoxModel",
          "state": {
            "_dom_classes": [],
            "_model_module": "@jupyter-widgets/controls",
            "_model_module_version": "1.5.0",
            "_model_name": "HBoxModel",
            "_view_count": null,
            "_view_module": "@jupyter-widgets/controls",
            "_view_module_version": "1.5.0",
            "_view_name": "HBoxView",
            "box_style": "",
            "children": [
              "IPY_MODEL_8bae6c6f429e4d9a9f1adc04ef09197a",
              "IPY_MODEL_c8705e730c4f4b3b9d206ea687e71770",
              "IPY_MODEL_f51ebf1b616b4fb1b4a5d28697306299"
            ],
            "layout": "IPY_MODEL_708367426f1e4770a946ddfe46e57a44"
          }
        },
        "47e615d48777456db513f8f41f326fa6": {
          "model_module": "@jupyter-widgets/base",
          "model_module_version": "1.2.0",
          "model_name": "LayoutModel",
          "state": {
            "_model_module": "@jupyter-widgets/base",
            "_model_module_version": "1.2.0",
            "_model_name": "LayoutModel",
            "_view_count": null,
            "_view_module": "@jupyter-widgets/base",
            "_view_module_version": "1.2.0",
            "_view_name": "LayoutView",
            "align_content": null,
            "align_items": null,
            "align_self": null,
            "border": null,
            "bottom": null,
            "display": null,
            "flex": null,
            "flex_flow": null,
            "grid_area": null,
            "grid_auto_columns": null,
            "grid_auto_flow": null,
            "grid_auto_rows": null,
            "grid_column": null,
            "grid_gap": null,
            "grid_row": null,
            "grid_template_areas": null,
            "grid_template_columns": null,
            "grid_template_rows": null,
            "height": null,
            "justify_content": null,
            "justify_items": null,
            "left": null,
            "margin": null,
            "max_height": null,
            "max_width": null,
            "min_height": null,
            "min_width": null,
            "object_fit": null,
            "object_position": null,
            "order": null,
            "overflow": null,
            "overflow_x": null,
            "overflow_y": null,
            "padding": null,
            "right": null,
            "top": null,
            "visibility": null,
            "width": null
          }
        },
        "4c2e4221dea44c2395c94723dcf5662c": {
          "model_module": "@jupyter-widgets/controls",
          "model_module_version": "1.5.0",
          "model_name": "DescriptionStyleModel",
          "state": {
            "_model_module": "@jupyter-widgets/controls",
            "_model_module_version": "1.5.0",
            "_model_name": "DescriptionStyleModel",
            "_view_count": null,
            "_view_module": "@jupyter-widgets/base",
            "_view_module_version": "1.2.0",
            "_view_name": "StyleView",
            "description_width": ""
          }
        },
        "502b7d417005422f8f0c5f2cdcdf4feb": {
          "model_module": "@jupyter-widgets/controls",
          "model_module_version": "1.5.0",
          "model_name": "HTMLModel",
          "state": {
            "_dom_classes": [],
            "_model_module": "@jupyter-widgets/controls",
            "_model_module_version": "1.5.0",
            "_model_name": "HTMLModel",
            "_view_count": null,
            "_view_module": "@jupyter-widgets/controls",
            "_view_module_version": "1.5.0",
            "_view_name": "HTMLView",
            "description": "",
            "description_tooltip": null,
            "layout": "IPY_MODEL_cf55250412b6471fb1a9a1bf10daeb16",
            "placeholder": "​",
            "style": "IPY_MODEL_9150046f77b7432fbfc24aa50098ec82",
            "value": " 10/10 [00:00&lt;00:00, 198.88 examples/s]"
          }
        },
        "54b92ac3369544ffab1ff97136e6626a": {
          "model_module": "@jupyter-widgets/controls",
          "model_module_version": "1.5.0",
          "model_name": "HTMLModel",
          "state": {
            "_dom_classes": [],
            "_model_module": "@jupyter-widgets/controls",
            "_model_module_version": "1.5.0",
            "_model_name": "HTMLModel",
            "_view_count": null,
            "_view_module": "@jupyter-widgets/controls",
            "_view_module_version": "1.5.0",
            "_view_name": "HTMLView",
            "description": "",
            "description_tooltip": null,
            "layout": "IPY_MODEL_0809634fac6446ff8cb34d0bd1a0f361",
            "placeholder": "​",
            "style": "IPY_MODEL_1f6034acaefd4cd88a4bc08257e0b01c",
            "value": "Map: 100%"
          }
        },
        "57828eaa2abc4a70b8f08abdd9900071": {
          "model_module": "@jupyter-widgets/base",
          "model_module_version": "1.2.0",
          "model_name": "LayoutModel",
          "state": {
            "_model_module": "@jupyter-widgets/base",
            "_model_module_version": "1.2.0",
            "_model_name": "LayoutModel",
            "_view_count": null,
            "_view_module": "@jupyter-widgets/base",
            "_view_module_version": "1.2.0",
            "_view_name": "LayoutView",
            "align_content": null,
            "align_items": null,
            "align_self": null,
            "border": null,
            "bottom": null,
            "display": null,
            "flex": null,
            "flex_flow": null,
            "grid_area": null,
            "grid_auto_columns": null,
            "grid_auto_flow": null,
            "grid_auto_rows": null,
            "grid_column": null,
            "grid_gap": null,
            "grid_row": null,
            "grid_template_areas": null,
            "grid_template_columns": null,
            "grid_template_rows": null,
            "height": null,
            "justify_content": null,
            "justify_items": null,
            "left": null,
            "margin": null,
            "max_height": null,
            "max_width": null,
            "min_height": null,
            "min_width": null,
            "object_fit": null,
            "object_position": null,
            "order": null,
            "overflow": null,
            "overflow_x": null,
            "overflow_y": null,
            "padding": null,
            "right": null,
            "top": null,
            "visibility": null,
            "width": null
          }
        },
        "5de15914381b4c1e98e88f3b1705e05b": {
          "model_module": "@jupyter-widgets/controls",
          "model_module_version": "1.5.0",
          "model_name": "HBoxModel",
          "state": {
            "_dom_classes": [],
            "_model_module": "@jupyter-widgets/controls",
            "_model_module_version": "1.5.0",
            "_model_name": "HBoxModel",
            "_view_count": null,
            "_view_module": "@jupyter-widgets/controls",
            "_view_module_version": "1.5.0",
            "_view_name": "HBoxView",
            "box_style": "",
            "children": [
              "IPY_MODEL_15a9fba024ba4482a176d345b303e6c0",
              "IPY_MODEL_c7fdcd4b85b04389aa4ee8b8db925c1d",
              "IPY_MODEL_dec7f5e92ad943de80f489280a30c2f5"
            ],
            "layout": "IPY_MODEL_7e705bf3b89a4680bb5228237a06f9de"
          }
        },
        "5de82f615f6d48d092d5bbf9e5d094c4": {
          "model_module": "@jupyter-widgets/base",
          "model_module_version": "1.2.0",
          "model_name": "LayoutModel",
          "state": {
            "_model_module": "@jupyter-widgets/base",
            "_model_module_version": "1.2.0",
            "_model_name": "LayoutModel",
            "_view_count": null,
            "_view_module": "@jupyter-widgets/base",
            "_view_module_version": "1.2.0",
            "_view_name": "LayoutView",
            "align_content": null,
            "align_items": null,
            "align_self": null,
            "border": null,
            "bottom": null,
            "display": null,
            "flex": null,
            "flex_flow": null,
            "grid_area": null,
            "grid_auto_columns": null,
            "grid_auto_flow": null,
            "grid_auto_rows": null,
            "grid_column": null,
            "grid_gap": null,
            "grid_row": null,
            "grid_template_areas": null,
            "grid_template_columns": null,
            "grid_template_rows": null,
            "height": null,
            "justify_content": null,
            "justify_items": null,
            "left": null,
            "margin": null,
            "max_height": null,
            "max_width": null,
            "min_height": null,
            "min_width": null,
            "object_fit": null,
            "object_position": null,
            "order": null,
            "overflow": null,
            "overflow_x": null,
            "overflow_y": null,
            "padding": null,
            "right": null,
            "top": null,
            "visibility": null,
            "width": null
          }
        },
        "602935cf801e4727bc8d2b078420ea53": {
          "model_module": "@jupyter-widgets/base",
          "model_module_version": "1.2.0",
          "model_name": "LayoutModel",
          "state": {
            "_model_module": "@jupyter-widgets/base",
            "_model_module_version": "1.2.0",
            "_model_name": "LayoutModel",
            "_view_count": null,
            "_view_module": "@jupyter-widgets/base",
            "_view_module_version": "1.2.0",
            "_view_name": "LayoutView",
            "align_content": null,
            "align_items": null,
            "align_self": null,
            "border": null,
            "bottom": null,
            "display": null,
            "flex": null,
            "flex_flow": null,
            "grid_area": null,
            "grid_auto_columns": null,
            "grid_auto_flow": null,
            "grid_auto_rows": null,
            "grid_column": null,
            "grid_gap": null,
            "grid_row": null,
            "grid_template_areas": null,
            "grid_template_columns": null,
            "grid_template_rows": null,
            "height": null,
            "justify_content": null,
            "justify_items": null,
            "left": null,
            "margin": null,
            "max_height": null,
            "max_width": null,
            "min_height": null,
            "min_width": null,
            "object_fit": null,
            "object_position": null,
            "order": null,
            "overflow": null,
            "overflow_x": null,
            "overflow_y": null,
            "padding": null,
            "right": null,
            "top": null,
            "visibility": null,
            "width": null
          }
        },
        "62d28361786b4d08b18ecc8093572049": {
          "model_module": "@jupyter-widgets/controls",
          "model_module_version": "1.5.0",
          "model_name": "ProgressStyleModel",
          "state": {
            "_model_module": "@jupyter-widgets/controls",
            "_model_module_version": "1.5.0",
            "_model_name": "ProgressStyleModel",
            "_view_count": null,
            "_view_module": "@jupyter-widgets/base",
            "_view_module_version": "1.2.0",
            "_view_name": "StyleView",
            "bar_color": null,
            "description_width": ""
          }
        },
        "6a2f4d5cb9cc4ff7a223dc249af75d54": {
          "model_module": "@jupyter-widgets/base",
          "model_module_version": "1.2.0",
          "model_name": "LayoutModel",
          "state": {
            "_model_module": "@jupyter-widgets/base",
            "_model_module_version": "1.2.0",
            "_model_name": "LayoutModel",
            "_view_count": null,
            "_view_module": "@jupyter-widgets/base",
            "_view_module_version": "1.2.0",
            "_view_name": "LayoutView",
            "align_content": null,
            "align_items": null,
            "align_self": null,
            "border": null,
            "bottom": null,
            "display": null,
            "flex": null,
            "flex_flow": null,
            "grid_area": null,
            "grid_auto_columns": null,
            "grid_auto_flow": null,
            "grid_auto_rows": null,
            "grid_column": null,
            "grid_gap": null,
            "grid_row": null,
            "grid_template_areas": null,
            "grid_template_columns": null,
            "grid_template_rows": null,
            "height": null,
            "justify_content": null,
            "justify_items": null,
            "left": null,
            "margin": null,
            "max_height": null,
            "max_width": null,
            "min_height": null,
            "min_width": null,
            "object_fit": null,
            "object_position": null,
            "order": null,
            "overflow": null,
            "overflow_x": null,
            "overflow_y": null,
            "padding": null,
            "right": null,
            "top": null,
            "visibility": null,
            "width": null
          }
        },
        "6f84cf983b014a34a55e8ce2b4078ad8": {
          "model_module": "@jupyter-widgets/base",
          "model_module_version": "1.2.0",
          "model_name": "LayoutModel",
          "state": {
            "_model_module": "@jupyter-widgets/base",
            "_model_module_version": "1.2.0",
            "_model_name": "LayoutModel",
            "_view_count": null,
            "_view_module": "@jupyter-widgets/base",
            "_view_module_version": "1.2.0",
            "_view_name": "LayoutView",
            "align_content": null,
            "align_items": null,
            "align_self": null,
            "border": null,
            "bottom": null,
            "display": null,
            "flex": null,
            "flex_flow": null,
            "grid_area": null,
            "grid_auto_columns": null,
            "grid_auto_flow": null,
            "grid_auto_rows": null,
            "grid_column": null,
            "grid_gap": null,
            "grid_row": null,
            "grid_template_areas": null,
            "grid_template_columns": null,
            "grid_template_rows": null,
            "height": null,
            "justify_content": null,
            "justify_items": null,
            "left": null,
            "margin": null,
            "max_height": null,
            "max_width": null,
            "min_height": null,
            "min_width": null,
            "object_fit": null,
            "object_position": null,
            "order": null,
            "overflow": null,
            "overflow_x": null,
            "overflow_y": null,
            "padding": null,
            "right": null,
            "top": null,
            "visibility": null,
            "width": null
          }
        },
        "708367426f1e4770a946ddfe46e57a44": {
          "model_module": "@jupyter-widgets/base",
          "model_module_version": "1.2.0",
          "model_name": "LayoutModel",
          "state": {
            "_model_module": "@jupyter-widgets/base",
            "_model_module_version": "1.2.0",
            "_model_name": "LayoutModel",
            "_view_count": null,
            "_view_module": "@jupyter-widgets/base",
            "_view_module_version": "1.2.0",
            "_view_name": "LayoutView",
            "align_content": null,
            "align_items": null,
            "align_self": null,
            "border": null,
            "bottom": null,
            "display": null,
            "flex": null,
            "flex_flow": null,
            "grid_area": null,
            "grid_auto_columns": null,
            "grid_auto_flow": null,
            "grid_auto_rows": null,
            "grid_column": null,
            "grid_gap": null,
            "grid_row": null,
            "grid_template_areas": null,
            "grid_template_columns": null,
            "grid_template_rows": null,
            "height": null,
            "justify_content": null,
            "justify_items": null,
            "left": null,
            "margin": null,
            "max_height": null,
            "max_width": null,
            "min_height": null,
            "min_width": null,
            "object_fit": null,
            "object_position": null,
            "order": null,
            "overflow": null,
            "overflow_x": null,
            "overflow_y": null,
            "padding": null,
            "right": null,
            "top": null,
            "visibility": null,
            "width": null
          }
        },
        "70f043c1c360478eae0a0ac35355e33e": {
          "model_module": "@jupyter-widgets/controls",
          "model_module_version": "1.5.0",
          "model_name": "FloatProgressModel",
          "state": {
            "_dom_classes": [],
            "_model_module": "@jupyter-widgets/controls",
            "_model_module_version": "1.5.0",
            "_model_name": "FloatProgressModel",
            "_view_count": null,
            "_view_module": "@jupyter-widgets/controls",
            "_view_module_version": "1.5.0",
            "_view_name": "ProgressView",
            "bar_style": "success",
            "description": "",
            "description_tooltip": null,
            "layout": "IPY_MODEL_88d4216092b64266a0524dbebdcd102b",
            "max": 10,
            "min": 0,
            "orientation": "horizontal",
            "style": "IPY_MODEL_c55e916708b94e8cab79be656f105210",
            "value": 10
          }
        },
        "73ea289d5088467aaafe9eb454e04a3c": {
          "model_module": "@jupyter-widgets/controls",
          "model_module_version": "1.5.0",
          "model_name": "DescriptionStyleModel",
          "state": {
            "_model_module": "@jupyter-widgets/controls",
            "_model_module_version": "1.5.0",
            "_model_name": "DescriptionStyleModel",
            "_view_count": null,
            "_view_module": "@jupyter-widgets/base",
            "_view_module_version": "1.2.0",
            "_view_name": "StyleView",
            "description_width": ""
          }
        },
        "74244dbd78c34ca9a473ed67aa0f3f54": {
          "model_module": "@jupyter-widgets/controls",
          "model_module_version": "1.5.0",
          "model_name": "HBoxModel",
          "state": {
            "_dom_classes": [],
            "_model_module": "@jupyter-widgets/controls",
            "_model_module_version": "1.5.0",
            "_model_name": "HBoxModel",
            "_view_count": null,
            "_view_module": "@jupyter-widgets/controls",
            "_view_module_version": "1.5.0",
            "_view_name": "HBoxView",
            "box_style": "",
            "children": [
              "IPY_MODEL_54b92ac3369544ffab1ff97136e6626a",
              "IPY_MODEL_e12c1f0399d24af7ae3eb9d38330334a",
              "IPY_MODEL_9519bc9205924e1d80c1421a988febb9"
            ],
            "layout": "IPY_MODEL_5de82f615f6d48d092d5bbf9e5d094c4"
          }
        },
        "752aa41d64a5496d857ab2af772b29a8": {
          "model_module": "@jupyter-widgets/base",
          "model_module_version": "1.2.0",
          "model_name": "LayoutModel",
          "state": {
            "_model_module": "@jupyter-widgets/base",
            "_model_module_version": "1.2.0",
            "_model_name": "LayoutModel",
            "_view_count": null,
            "_view_module": "@jupyter-widgets/base",
            "_view_module_version": "1.2.0",
            "_view_name": "LayoutView",
            "align_content": null,
            "align_items": null,
            "align_self": null,
            "border": null,
            "bottom": null,
            "display": null,
            "flex": null,
            "flex_flow": null,
            "grid_area": null,
            "grid_auto_columns": null,
            "grid_auto_flow": null,
            "grid_auto_rows": null,
            "grid_column": null,
            "grid_gap": null,
            "grid_row": null,
            "grid_template_areas": null,
            "grid_template_columns": null,
            "grid_template_rows": null,
            "height": null,
            "justify_content": null,
            "justify_items": null,
            "left": null,
            "margin": null,
            "max_height": null,
            "max_width": null,
            "min_height": null,
            "min_width": null,
            "object_fit": null,
            "object_position": null,
            "order": null,
            "overflow": null,
            "overflow_x": null,
            "overflow_y": null,
            "padding": null,
            "right": null,
            "top": null,
            "visibility": null,
            "width": null
          }
        },
        "7ca168a221ad45089962258cfe18b36f": {
          "model_module": "@jupyter-widgets/controls",
          "model_module_version": "1.5.0",
          "model_name": "DescriptionStyleModel",
          "state": {
            "_model_module": "@jupyter-widgets/controls",
            "_model_module_version": "1.5.0",
            "_model_name": "DescriptionStyleModel",
            "_view_count": null,
            "_view_module": "@jupyter-widgets/base",
            "_view_module_version": "1.2.0",
            "_view_name": "StyleView",
            "description_width": ""
          }
        },
        "7e705bf3b89a4680bb5228237a06f9de": {
          "model_module": "@jupyter-widgets/base",
          "model_module_version": "1.2.0",
          "model_name": "LayoutModel",
          "state": {
            "_model_module": "@jupyter-widgets/base",
            "_model_module_version": "1.2.0",
            "_model_name": "LayoutModel",
            "_view_count": null,
            "_view_module": "@jupyter-widgets/base",
            "_view_module_version": "1.2.0",
            "_view_name": "LayoutView",
            "align_content": null,
            "align_items": null,
            "align_self": null,
            "border": null,
            "bottom": null,
            "display": null,
            "flex": null,
            "flex_flow": null,
            "grid_area": null,
            "grid_auto_columns": null,
            "grid_auto_flow": null,
            "grid_auto_rows": null,
            "grid_column": null,
            "grid_gap": null,
            "grid_row": null,
            "grid_template_areas": null,
            "grid_template_columns": null,
            "grid_template_rows": null,
            "height": null,
            "justify_content": null,
            "justify_items": null,
            "left": null,
            "margin": null,
            "max_height": null,
            "max_width": null,
            "min_height": null,
            "min_width": null,
            "object_fit": null,
            "object_position": null,
            "order": null,
            "overflow": null,
            "overflow_x": null,
            "overflow_y": null,
            "padding": null,
            "right": null,
            "top": null,
            "visibility": null,
            "width": null
          }
        },
        "86216630848849a498c3d363a86ce743": {
          "model_module": "@jupyter-widgets/controls",
          "model_module_version": "1.5.0",
          "model_name": "ProgressStyleModel",
          "state": {
            "_model_module": "@jupyter-widgets/controls",
            "_model_module_version": "1.5.0",
            "_model_name": "ProgressStyleModel",
            "_view_count": null,
            "_view_module": "@jupyter-widgets/base",
            "_view_module_version": "1.2.0",
            "_view_name": "StyleView",
            "bar_color": null,
            "description_width": ""
          }
        },
        "88d4216092b64266a0524dbebdcd102b": {
          "model_module": "@jupyter-widgets/base",
          "model_module_version": "1.2.0",
          "model_name": "LayoutModel",
          "state": {
            "_model_module": "@jupyter-widgets/base",
            "_model_module_version": "1.2.0",
            "_model_name": "LayoutModel",
            "_view_count": null,
            "_view_module": "@jupyter-widgets/base",
            "_view_module_version": "1.2.0",
            "_view_name": "LayoutView",
            "align_content": null,
            "align_items": null,
            "align_self": null,
            "border": null,
            "bottom": null,
            "display": null,
            "flex": null,
            "flex_flow": null,
            "grid_area": null,
            "grid_auto_columns": null,
            "grid_auto_flow": null,
            "grid_auto_rows": null,
            "grid_column": null,
            "grid_gap": null,
            "grid_row": null,
            "grid_template_areas": null,
            "grid_template_columns": null,
            "grid_template_rows": null,
            "height": null,
            "justify_content": null,
            "justify_items": null,
            "left": null,
            "margin": null,
            "max_height": null,
            "max_width": null,
            "min_height": null,
            "min_width": null,
            "object_fit": null,
            "object_position": null,
            "order": null,
            "overflow": null,
            "overflow_x": null,
            "overflow_y": null,
            "padding": null,
            "right": null,
            "top": null,
            "visibility": null,
            "width": null
          }
        },
        "8bae6c6f429e4d9a9f1adc04ef09197a": {
          "model_module": "@jupyter-widgets/controls",
          "model_module_version": "1.5.0",
          "model_name": "HTMLModel",
          "state": {
            "_dom_classes": [],
            "_model_module": "@jupyter-widgets/controls",
            "_model_module_version": "1.5.0",
            "_model_name": "HTMLModel",
            "_view_count": null,
            "_view_module": "@jupyter-widgets/controls",
            "_view_module_version": "1.5.0",
            "_view_name": "HTMLView",
            "description": "",
            "description_tooltip": null,
            "layout": "IPY_MODEL_ad1b7fff8bff4703a083d3f3db6af640",
            "placeholder": "​",
            "style": "IPY_MODEL_2afac9351b364fa883e9eaab8cac112f",
            "value": "Map: 100%"
          }
        },
        "8ce57732a1dc4402bf13b016e2013a24": {
          "model_module": "@jupyter-widgets/controls",
          "model_module_version": "1.5.0",
          "model_name": "HBoxModel",
          "state": {
            "_dom_classes": [],
            "_model_module": "@jupyter-widgets/controls",
            "_model_module_version": "1.5.0",
            "_model_name": "HBoxModel",
            "_view_count": null,
            "_view_module": "@jupyter-widgets/controls",
            "_view_module_version": "1.5.0",
            "_view_name": "HBoxView",
            "box_style": "",
            "children": [
              "IPY_MODEL_42863919849d4477b10563f93d7d7aa2",
              "IPY_MODEL_15450e7aa18f4018b530f5c307c704ea",
              "IPY_MODEL_f4d76b1a647742b7a2fa444843740d4c"
            ],
            "layout": "IPY_MODEL_6f84cf983b014a34a55e8ce2b4078ad8"
          }
        },
        "9150046f77b7432fbfc24aa50098ec82": {
          "model_module": "@jupyter-widgets/controls",
          "model_module_version": "1.5.0",
          "model_name": "DescriptionStyleModel",
          "state": {
            "_model_module": "@jupyter-widgets/controls",
            "_model_module_version": "1.5.0",
            "_model_name": "DescriptionStyleModel",
            "_view_count": null,
            "_view_module": "@jupyter-widgets/base",
            "_view_module_version": "1.2.0",
            "_view_name": "StyleView",
            "description_width": ""
          }
        },
        "91a2d3cff10c4600b4cfc4515867bdb4": {
          "model_module": "@jupyter-widgets/controls",
          "model_module_version": "1.5.0",
          "model_name": "DescriptionStyleModel",
          "state": {
            "_model_module": "@jupyter-widgets/controls",
            "_model_module_version": "1.5.0",
            "_model_name": "DescriptionStyleModel",
            "_view_count": null,
            "_view_module": "@jupyter-widgets/base",
            "_view_module_version": "1.2.0",
            "_view_name": "StyleView",
            "description_width": ""
          }
        },
        "9519bc9205924e1d80c1421a988febb9": {
          "model_module": "@jupyter-widgets/controls",
          "model_module_version": "1.5.0",
          "model_name": "HTMLModel",
          "state": {
            "_dom_classes": [],
            "_model_module": "@jupyter-widgets/controls",
            "_model_module_version": "1.5.0",
            "_model_name": "HTMLModel",
            "_view_count": null,
            "_view_module": "@jupyter-widgets/controls",
            "_view_module_version": "1.5.0",
            "_view_name": "HTMLView",
            "description": "",
            "description_tooltip": null,
            "layout": "IPY_MODEL_d38507fd5e2140f88b4fb4b8cf387079",
            "placeholder": "​",
            "style": "IPY_MODEL_f9582857076640e2b16f5790cca6e3a1",
            "value": " 169/169 [00:00&lt;00:00, 3943.53 examples/s]"
          }
        },
        "95c4f129c1cd404f949e5d0dac863217": {
          "model_module": "@jupyter-widgets/controls",
          "model_module_version": "1.5.0",
          "model_name": "FloatProgressModel",
          "state": {
            "_dom_classes": [],
            "_model_module": "@jupyter-widgets/controls",
            "_model_module_version": "1.5.0",
            "_model_name": "FloatProgressModel",
            "_view_count": null,
            "_view_module": "@jupyter-widgets/controls",
            "_view_module_version": "1.5.0",
            "_view_name": "ProgressView",
            "bar_style": "success",
            "description": "",
            "description_tooltip": null,
            "layout": "IPY_MODEL_2671d82ac1d7426c84aef3454e1ffb2c",
            "max": 19,
            "min": 0,
            "orientation": "horizontal",
            "style": "IPY_MODEL_b12c5581a9624cf4af4d031bf88166db",
            "value": 19
          }
        },
        "96ba0eae801d4c3b843542aa0d88ec24": {
          "model_module": "@jupyter-widgets/base",
          "model_module_version": "1.2.0",
          "model_name": "LayoutModel",
          "state": {
            "_model_module": "@jupyter-widgets/base",
            "_model_module_version": "1.2.0",
            "_model_name": "LayoutModel",
            "_view_count": null,
            "_view_module": "@jupyter-widgets/base",
            "_view_module_version": "1.2.0",
            "_view_name": "LayoutView",
            "align_content": null,
            "align_items": null,
            "align_self": null,
            "border": null,
            "bottom": null,
            "display": null,
            "flex": null,
            "flex_flow": null,
            "grid_area": null,
            "grid_auto_columns": null,
            "grid_auto_flow": null,
            "grid_auto_rows": null,
            "grid_column": null,
            "grid_gap": null,
            "grid_row": null,
            "grid_template_areas": null,
            "grid_template_columns": null,
            "grid_template_rows": null,
            "height": null,
            "justify_content": null,
            "justify_items": null,
            "left": null,
            "margin": null,
            "max_height": null,
            "max_width": null,
            "min_height": null,
            "min_width": null,
            "object_fit": null,
            "object_position": null,
            "order": null,
            "overflow": null,
            "overflow_x": null,
            "overflow_y": null,
            "padding": null,
            "right": null,
            "top": null,
            "visibility": null,
            "width": null
          }
        },
        "9739a64122674ceb97925092b320cf23": {
          "model_module": "@jupyter-widgets/controls",
          "model_module_version": "1.5.0",
          "model_name": "DescriptionStyleModel",
          "state": {
            "_model_module": "@jupyter-widgets/controls",
            "_model_module_version": "1.5.0",
            "_model_name": "DescriptionStyleModel",
            "_view_count": null,
            "_view_module": "@jupyter-widgets/base",
            "_view_module_version": "1.2.0",
            "_view_name": "StyleView",
            "description_width": ""
          }
        },
        "98c6f5aaa27e457d89bf55fdafde6ea0": {
          "model_module": "@jupyter-widgets/base",
          "model_module_version": "1.2.0",
          "model_name": "LayoutModel",
          "state": {
            "_model_module": "@jupyter-widgets/base",
            "_model_module_version": "1.2.0",
            "_model_name": "LayoutModel",
            "_view_count": null,
            "_view_module": "@jupyter-widgets/base",
            "_view_module_version": "1.2.0",
            "_view_name": "LayoutView",
            "align_content": null,
            "align_items": null,
            "align_self": null,
            "border": null,
            "bottom": null,
            "display": null,
            "flex": null,
            "flex_flow": null,
            "grid_area": null,
            "grid_auto_columns": null,
            "grid_auto_flow": null,
            "grid_auto_rows": null,
            "grid_column": null,
            "grid_gap": null,
            "grid_row": null,
            "grid_template_areas": null,
            "grid_template_columns": null,
            "grid_template_rows": null,
            "height": null,
            "justify_content": null,
            "justify_items": null,
            "left": null,
            "margin": null,
            "max_height": null,
            "max_width": null,
            "min_height": null,
            "min_width": null,
            "object_fit": null,
            "object_position": null,
            "order": null,
            "overflow": null,
            "overflow_x": null,
            "overflow_y": null,
            "padding": null,
            "right": null,
            "top": null,
            "visibility": null,
            "width": null
          }
        },
        "9ab053b3bb2a4aed83626009ce6c8e22": {
          "model_module": "@jupyter-widgets/base",
          "model_module_version": "1.2.0",
          "model_name": "LayoutModel",
          "state": {
            "_model_module": "@jupyter-widgets/base",
            "_model_module_version": "1.2.0",
            "_model_name": "LayoutModel",
            "_view_count": null,
            "_view_module": "@jupyter-widgets/base",
            "_view_module_version": "1.2.0",
            "_view_name": "LayoutView",
            "align_content": null,
            "align_items": null,
            "align_self": null,
            "border": null,
            "bottom": null,
            "display": null,
            "flex": null,
            "flex_flow": null,
            "grid_area": null,
            "grid_auto_columns": null,
            "grid_auto_flow": null,
            "grid_auto_rows": null,
            "grid_column": null,
            "grid_gap": null,
            "grid_row": null,
            "grid_template_areas": null,
            "grid_template_columns": null,
            "grid_template_rows": null,
            "height": null,
            "justify_content": null,
            "justify_items": null,
            "left": null,
            "margin": null,
            "max_height": null,
            "max_width": null,
            "min_height": null,
            "min_width": null,
            "object_fit": null,
            "object_position": null,
            "order": null,
            "overflow": null,
            "overflow_x": null,
            "overflow_y": null,
            "padding": null,
            "right": null,
            "top": null,
            "visibility": null,
            "width": null
          }
        },
        "a26779dcb0aa44469e1341cd20c6a65f": {
          "model_module": "@jupyter-widgets/base",
          "model_module_version": "1.2.0",
          "model_name": "LayoutModel",
          "state": {
            "_model_module": "@jupyter-widgets/base",
            "_model_module_version": "1.2.0",
            "_model_name": "LayoutModel",
            "_view_count": null,
            "_view_module": "@jupyter-widgets/base",
            "_view_module_version": "1.2.0",
            "_view_name": "LayoutView",
            "align_content": null,
            "align_items": null,
            "align_self": null,
            "border": null,
            "bottom": null,
            "display": null,
            "flex": null,
            "flex_flow": null,
            "grid_area": null,
            "grid_auto_columns": null,
            "grid_auto_flow": null,
            "grid_auto_rows": null,
            "grid_column": null,
            "grid_gap": null,
            "grid_row": null,
            "grid_template_areas": null,
            "grid_template_columns": null,
            "grid_template_rows": null,
            "height": null,
            "justify_content": null,
            "justify_items": null,
            "left": null,
            "margin": null,
            "max_height": null,
            "max_width": null,
            "min_height": null,
            "min_width": null,
            "object_fit": null,
            "object_position": null,
            "order": null,
            "overflow": null,
            "overflow_x": null,
            "overflow_y": null,
            "padding": null,
            "right": null,
            "top": null,
            "visibility": null,
            "width": null
          }
        },
        "a48d574df58f4cf99bb9597cdf137564": {
          "model_module": "@jupyter-widgets/controls",
          "model_module_version": "1.5.0",
          "model_name": "HTMLModel",
          "state": {
            "_dom_classes": [],
            "_model_module": "@jupyter-widgets/controls",
            "_model_module_version": "1.5.0",
            "_model_name": "HTMLModel",
            "_view_count": null,
            "_view_module": "@jupyter-widgets/controls",
            "_view_module_version": "1.5.0",
            "_view_name": "HTMLView",
            "description": "",
            "description_tooltip": null,
            "layout": "IPY_MODEL_aaea48104e824445a55a3db7efb26d52",
            "placeholder": "​",
            "style": "IPY_MODEL_4392218f95f545b9b913dd78f857ce92",
            "value": "Map: 100%"
          }
        },
        "aaea48104e824445a55a3db7efb26d52": {
          "model_module": "@jupyter-widgets/base",
          "model_module_version": "1.2.0",
          "model_name": "LayoutModel",
          "state": {
            "_model_module": "@jupyter-widgets/base",
            "_model_module_version": "1.2.0",
            "_model_name": "LayoutModel",
            "_view_count": null,
            "_view_module": "@jupyter-widgets/base",
            "_view_module_version": "1.2.0",
            "_view_name": "LayoutView",
            "align_content": null,
            "align_items": null,
            "align_self": null,
            "border": null,
            "bottom": null,
            "display": null,
            "flex": null,
            "flex_flow": null,
            "grid_area": null,
            "grid_auto_columns": null,
            "grid_auto_flow": null,
            "grid_auto_rows": null,
            "grid_column": null,
            "grid_gap": null,
            "grid_row": null,
            "grid_template_areas": null,
            "grid_template_columns": null,
            "grid_template_rows": null,
            "height": null,
            "justify_content": null,
            "justify_items": null,
            "left": null,
            "margin": null,
            "max_height": null,
            "max_width": null,
            "min_height": null,
            "min_width": null,
            "object_fit": null,
            "object_position": null,
            "order": null,
            "overflow": null,
            "overflow_x": null,
            "overflow_y": null,
            "padding": null,
            "right": null,
            "top": null,
            "visibility": null,
            "width": null
          }
        },
        "aafad82f6a9940aa9b66c05a6b22b2c9": {
          "model_module": "@jupyter-widgets/controls",
          "model_module_version": "1.5.0",
          "model_name": "HBoxModel",
          "state": {
            "_dom_classes": [],
            "_model_module": "@jupyter-widgets/controls",
            "_model_module_version": "1.5.0",
            "_model_name": "HBoxModel",
            "_view_count": null,
            "_view_module": "@jupyter-widgets/controls",
            "_view_module_version": "1.5.0",
            "_view_name": "HBoxView",
            "box_style": "",
            "children": [
              "IPY_MODEL_a48d574df58f4cf99bb9597cdf137564",
              "IPY_MODEL_70f043c1c360478eae0a0ac35355e33e",
              "IPY_MODEL_e3a37c6a6d1b4292a87e0b5c660f42ad"
            ],
            "layout": "IPY_MODEL_0048abe51abc4aec8ad954efec99e214"
          }
        },
        "ad1b7fff8bff4703a083d3f3db6af640": {
          "model_module": "@jupyter-widgets/base",
          "model_module_version": "1.2.0",
          "model_name": "LayoutModel",
          "state": {
            "_model_module": "@jupyter-widgets/base",
            "_model_module_version": "1.2.0",
            "_model_name": "LayoutModel",
            "_view_count": null,
            "_view_module": "@jupyter-widgets/base",
            "_view_module_version": "1.2.0",
            "_view_name": "LayoutView",
            "align_content": null,
            "align_items": null,
            "align_self": null,
            "border": null,
            "bottom": null,
            "display": null,
            "flex": null,
            "flex_flow": null,
            "grid_area": null,
            "grid_auto_columns": null,
            "grid_auto_flow": null,
            "grid_auto_rows": null,
            "grid_column": null,
            "grid_gap": null,
            "grid_row": null,
            "grid_template_areas": null,
            "grid_template_columns": null,
            "grid_template_rows": null,
            "height": null,
            "justify_content": null,
            "justify_items": null,
            "left": null,
            "margin": null,
            "max_height": null,
            "max_width": null,
            "min_height": null,
            "min_width": null,
            "object_fit": null,
            "object_position": null,
            "order": null,
            "overflow": null,
            "overflow_x": null,
            "overflow_y": null,
            "padding": null,
            "right": null,
            "top": null,
            "visibility": null,
            "width": null
          }
        },
        "b12c5581a9624cf4af4d031bf88166db": {
          "model_module": "@jupyter-widgets/controls",
          "model_module_version": "1.5.0",
          "model_name": "ProgressStyleModel",
          "state": {
            "_model_module": "@jupyter-widgets/controls",
            "_model_module_version": "1.5.0",
            "_model_name": "ProgressStyleModel",
            "_view_count": null,
            "_view_module": "@jupyter-widgets/base",
            "_view_module_version": "1.2.0",
            "_view_name": "StyleView",
            "bar_color": null,
            "description_width": ""
          }
        },
        "b99ab12b753a40449635457af47e81b1": {
          "model_module": "@jupyter-widgets/controls",
          "model_module_version": "1.5.0",
          "model_name": "FloatProgressModel",
          "state": {
            "_dom_classes": [],
            "_model_module": "@jupyter-widgets/controls",
            "_model_module_version": "1.5.0",
            "_model_name": "FloatProgressModel",
            "_view_count": null,
            "_view_module": "@jupyter-widgets/controls",
            "_view_module_version": "1.5.0",
            "_view_name": "ProgressView",
            "bar_style": "success",
            "description": "",
            "description_tooltip": null,
            "layout": "IPY_MODEL_19f10233394c41779ed738d580fd0049",
            "max": 10,
            "min": 0,
            "orientation": "horizontal",
            "style": "IPY_MODEL_d953989d778a4591b216c519d385f608",
            "value": 10
          }
        },
        "bad9990094f74720b2082add2719d0b9": {
          "model_module": "@jupyter-widgets/base",
          "model_module_version": "1.2.0",
          "model_name": "LayoutModel",
          "state": {
            "_model_module": "@jupyter-widgets/base",
            "_model_module_version": "1.2.0",
            "_model_name": "LayoutModel",
            "_view_count": null,
            "_view_module": "@jupyter-widgets/base",
            "_view_module_version": "1.2.0",
            "_view_name": "LayoutView",
            "align_content": null,
            "align_items": null,
            "align_self": null,
            "border": null,
            "bottom": null,
            "display": null,
            "flex": null,
            "flex_flow": null,
            "grid_area": null,
            "grid_auto_columns": null,
            "grid_auto_flow": null,
            "grid_auto_rows": null,
            "grid_column": null,
            "grid_gap": null,
            "grid_row": null,
            "grid_template_areas": null,
            "grid_template_columns": null,
            "grid_template_rows": null,
            "height": null,
            "justify_content": null,
            "justify_items": null,
            "left": null,
            "margin": null,
            "max_height": null,
            "max_width": null,
            "min_height": null,
            "min_width": null,
            "object_fit": null,
            "object_position": null,
            "order": null,
            "overflow": null,
            "overflow_x": null,
            "overflow_y": null,
            "padding": null,
            "right": null,
            "top": null,
            "visibility": null,
            "width": null
          }
        },
        "becf66fb256d44b68eccfb54053f8126": {
          "model_module": "@jupyter-widgets/controls",
          "model_module_version": "1.5.0",
          "model_name": "HTMLModel",
          "state": {
            "_dom_classes": [],
            "_model_module": "@jupyter-widgets/controls",
            "_model_module_version": "1.5.0",
            "_model_name": "HTMLModel",
            "_view_count": null,
            "_view_module": "@jupyter-widgets/controls",
            "_view_module_version": "1.5.0",
            "_view_name": "HTMLView",
            "description": "",
            "description_tooltip": null,
            "layout": "IPY_MODEL_d6ec7e47a7e74d5a84a6a29e0329676b",
            "placeholder": "​",
            "style": "IPY_MODEL_91a2d3cff10c4600b4cfc4515867bdb4",
            "value": "Map: 100%"
          }
        },
        "c42c9079979e44f0a04238fbb7941b46": {
          "model_module": "@jupyter-widgets/controls",
          "model_module_version": "1.5.0",
          "model_name": "FloatProgressModel",
          "state": {
            "_dom_classes": [],
            "_model_module": "@jupyter-widgets/controls",
            "_model_module_version": "1.5.0",
            "_model_name": "FloatProgressModel",
            "_view_count": null,
            "_view_module": "@jupyter-widgets/controls",
            "_view_module_version": "1.5.0",
            "_view_name": "ProgressView",
            "bar_style": "success",
            "description": "",
            "description_tooltip": null,
            "layout": "IPY_MODEL_57828eaa2abc4a70b8f08abdd9900071",
            "max": 169,
            "min": 0,
            "orientation": "horizontal",
            "style": "IPY_MODEL_62d28361786b4d08b18ecc8093572049",
            "value": 169
          }
        },
        "c4c0786446834615815c8ac60e92ca9c": {
          "model_module": "@jupyter-widgets/base",
          "model_module_version": "1.2.0",
          "model_name": "LayoutModel",
          "state": {
            "_model_module": "@jupyter-widgets/base",
            "_model_module_version": "1.2.0",
            "_model_name": "LayoutModel",
            "_view_count": null,
            "_view_module": "@jupyter-widgets/base",
            "_view_module_version": "1.2.0",
            "_view_name": "LayoutView",
            "align_content": null,
            "align_items": null,
            "align_self": null,
            "border": null,
            "bottom": null,
            "display": null,
            "flex": null,
            "flex_flow": null,
            "grid_area": null,
            "grid_auto_columns": null,
            "grid_auto_flow": null,
            "grid_auto_rows": null,
            "grid_column": null,
            "grid_gap": null,
            "grid_row": null,
            "grid_template_areas": null,
            "grid_template_columns": null,
            "grid_template_rows": null,
            "height": null,
            "justify_content": null,
            "justify_items": null,
            "left": null,
            "margin": null,
            "max_height": null,
            "max_width": null,
            "min_height": null,
            "min_width": null,
            "object_fit": null,
            "object_position": null,
            "order": null,
            "overflow": null,
            "overflow_x": null,
            "overflow_y": null,
            "padding": null,
            "right": null,
            "top": null,
            "visibility": null,
            "width": null
          }
        },
        "c55e916708b94e8cab79be656f105210": {
          "model_module": "@jupyter-widgets/controls",
          "model_module_version": "1.5.0",
          "model_name": "ProgressStyleModel",
          "state": {
            "_model_module": "@jupyter-widgets/controls",
            "_model_module_version": "1.5.0",
            "_model_name": "ProgressStyleModel",
            "_view_count": null,
            "_view_module": "@jupyter-widgets/base",
            "_view_module_version": "1.2.0",
            "_view_name": "StyleView",
            "bar_color": null,
            "description_width": ""
          }
        },
        "c7fdcd4b85b04389aa4ee8b8db925c1d": {
          "model_module": "@jupyter-widgets/controls",
          "model_module_version": "1.5.0",
          "model_name": "FloatProgressModel",
          "state": {
            "_dom_classes": [],
            "_model_module": "@jupyter-widgets/controls",
            "_model_module_version": "1.5.0",
            "_model_name": "FloatProgressModel",
            "_view_count": null,
            "_view_module": "@jupyter-widgets/controls",
            "_view_module_version": "1.5.0",
            "_view_name": "ProgressView",
            "bar_style": "success",
            "description": "",
            "description_tooltip": null,
            "layout": "IPY_MODEL_bad9990094f74720b2082add2719d0b9",
            "max": 89,
            "min": 0,
            "orientation": "horizontal",
            "style": "IPY_MODEL_86216630848849a498c3d363a86ce743",
            "value": 89
          }
        },
        "c8705e730c4f4b3b9d206ea687e71770": {
          "model_module": "@jupyter-widgets/controls",
          "model_module_version": "1.5.0",
          "model_name": "FloatProgressModel",
          "state": {
            "_dom_classes": [],
            "_model_module": "@jupyter-widgets/controls",
            "_model_module_version": "1.5.0",
            "_model_name": "FloatProgressModel",
            "_view_count": null,
            "_view_module": "@jupyter-widgets/controls",
            "_view_module_version": "1.5.0",
            "_view_name": "ProgressView",
            "bar_style": "success",
            "description": "",
            "description_tooltip": null,
            "layout": "IPY_MODEL_6a2f4d5cb9cc4ff7a223dc249af75d54",
            "max": 19,
            "min": 0,
            "orientation": "horizontal",
            "style": "IPY_MODEL_3ea45bc0373842c5bfe23e70e16f0f73",
            "value": 19
          }
        },
        "ca39f3c8326844a09e2f645d593e59ab": {
          "model_module": "@jupyter-widgets/controls",
          "model_module_version": "1.5.0",
          "model_name": "HBoxModel",
          "state": {
            "_dom_classes": [],
            "_model_module": "@jupyter-widgets/controls",
            "_model_module_version": "1.5.0",
            "_model_name": "HBoxModel",
            "_view_count": null,
            "_view_module": "@jupyter-widgets/controls",
            "_view_module_version": "1.5.0",
            "_view_name": "HBoxView",
            "box_style": "",
            "children": [
              "IPY_MODEL_becf66fb256d44b68eccfb54053f8126",
              "IPY_MODEL_c42c9079979e44f0a04238fbb7941b46",
              "IPY_MODEL_cd38215f458342f5b3c730ef5d622cf9"
            ],
            "layout": "IPY_MODEL_fb95268347b04f49a0345260bdaf69f1"
          }
        },
        "cd38215f458342f5b3c730ef5d622cf9": {
          "model_module": "@jupyter-widgets/controls",
          "model_module_version": "1.5.0",
          "model_name": "HTMLModel",
          "state": {
            "_dom_classes": [],
            "_model_module": "@jupyter-widgets/controls",
            "_model_module_version": "1.5.0",
            "_model_name": "HTMLModel",
            "_view_count": null,
            "_view_module": "@jupyter-widgets/controls",
            "_view_module_version": "1.5.0",
            "_view_name": "HTMLView",
            "description": "",
            "description_tooltip": null,
            "layout": "IPY_MODEL_602935cf801e4727bc8d2b078420ea53",
            "placeholder": "​",
            "style": "IPY_MODEL_9739a64122674ceb97925092b320cf23",
            "value": " 169/169 [00:00&lt;00:00, 1573.04 examples/s]"
          }
        },
        "cd3a235e7aa34f56972b87c4b0e6ab99": {
          "model_module": "@jupyter-widgets/controls",
          "model_module_version": "1.5.0",
          "model_name": "DescriptionStyleModel",
          "state": {
            "_model_module": "@jupyter-widgets/controls",
            "_model_module_version": "1.5.0",
            "_model_name": "DescriptionStyleModel",
            "_view_count": null,
            "_view_module": "@jupyter-widgets/base",
            "_view_module_version": "1.2.0",
            "_view_name": "StyleView",
            "description_width": ""
          }
        },
        "cf55250412b6471fb1a9a1bf10daeb16": {
          "model_module": "@jupyter-widgets/base",
          "model_module_version": "1.2.0",
          "model_name": "LayoutModel",
          "state": {
            "_model_module": "@jupyter-widgets/base",
            "_model_module_version": "1.2.0",
            "_model_name": "LayoutModel",
            "_view_count": null,
            "_view_module": "@jupyter-widgets/base",
            "_view_module_version": "1.2.0",
            "_view_name": "LayoutView",
            "align_content": null,
            "align_items": null,
            "align_self": null,
            "border": null,
            "bottom": null,
            "display": null,
            "flex": null,
            "flex_flow": null,
            "grid_area": null,
            "grid_auto_columns": null,
            "grid_auto_flow": null,
            "grid_auto_rows": null,
            "grid_column": null,
            "grid_gap": null,
            "grid_row": null,
            "grid_template_areas": null,
            "grid_template_columns": null,
            "grid_template_rows": null,
            "height": null,
            "justify_content": null,
            "justify_items": null,
            "left": null,
            "margin": null,
            "max_height": null,
            "max_width": null,
            "min_height": null,
            "min_width": null,
            "object_fit": null,
            "object_position": null,
            "order": null,
            "overflow": null,
            "overflow_x": null,
            "overflow_y": null,
            "padding": null,
            "right": null,
            "top": null,
            "visibility": null,
            "width": null
          }
        },
        "d3212f63abf9444bad26bbe3303d7826": {
          "model_module": "@jupyter-widgets/controls",
          "model_module_version": "1.5.0",
          "model_name": "DescriptionStyleModel",
          "state": {
            "_model_module": "@jupyter-widgets/controls",
            "_model_module_version": "1.5.0",
            "_model_name": "DescriptionStyleModel",
            "_view_count": null,
            "_view_module": "@jupyter-widgets/base",
            "_view_module_version": "1.2.0",
            "_view_name": "StyleView",
            "description_width": ""
          }
        },
        "d38507fd5e2140f88b4fb4b8cf387079": {
          "model_module": "@jupyter-widgets/base",
          "model_module_version": "1.2.0",
          "model_name": "LayoutModel",
          "state": {
            "_model_module": "@jupyter-widgets/base",
            "_model_module_version": "1.2.0",
            "_model_name": "LayoutModel",
            "_view_count": null,
            "_view_module": "@jupyter-widgets/base",
            "_view_module_version": "1.2.0",
            "_view_name": "LayoutView",
            "align_content": null,
            "align_items": null,
            "align_self": null,
            "border": null,
            "bottom": null,
            "display": null,
            "flex": null,
            "flex_flow": null,
            "grid_area": null,
            "grid_auto_columns": null,
            "grid_auto_flow": null,
            "grid_auto_rows": null,
            "grid_column": null,
            "grid_gap": null,
            "grid_row": null,
            "grid_template_areas": null,
            "grid_template_columns": null,
            "grid_template_rows": null,
            "height": null,
            "justify_content": null,
            "justify_items": null,
            "left": null,
            "margin": null,
            "max_height": null,
            "max_width": null,
            "min_height": null,
            "min_width": null,
            "object_fit": null,
            "object_position": null,
            "order": null,
            "overflow": null,
            "overflow_x": null,
            "overflow_y": null,
            "padding": null,
            "right": null,
            "top": null,
            "visibility": null,
            "width": null
          }
        },
        "d550997734224292a1620378f25ab006": {
          "model_module": "@jupyter-widgets/base",
          "model_module_version": "1.2.0",
          "model_name": "LayoutModel",
          "state": {
            "_model_module": "@jupyter-widgets/base",
            "_model_module_version": "1.2.0",
            "_model_name": "LayoutModel",
            "_view_count": null,
            "_view_module": "@jupyter-widgets/base",
            "_view_module_version": "1.2.0",
            "_view_name": "LayoutView",
            "align_content": null,
            "align_items": null,
            "align_self": null,
            "border": null,
            "bottom": null,
            "display": null,
            "flex": null,
            "flex_flow": null,
            "grid_area": null,
            "grid_auto_columns": null,
            "grid_auto_flow": null,
            "grid_auto_rows": null,
            "grid_column": null,
            "grid_gap": null,
            "grid_row": null,
            "grid_template_areas": null,
            "grid_template_columns": null,
            "grid_template_rows": null,
            "height": null,
            "justify_content": null,
            "justify_items": null,
            "left": null,
            "margin": null,
            "max_height": null,
            "max_width": null,
            "min_height": null,
            "min_width": null,
            "object_fit": null,
            "object_position": null,
            "order": null,
            "overflow": null,
            "overflow_x": null,
            "overflow_y": null,
            "padding": null,
            "right": null,
            "top": null,
            "visibility": null,
            "width": null
          }
        },
        "d6c3a99aeb494c51aa480196c7a95d65": {
          "model_module": "@jupyter-widgets/controls",
          "model_module_version": "1.5.0",
          "model_name": "HTMLModel",
          "state": {
            "_dom_classes": [],
            "_model_module": "@jupyter-widgets/controls",
            "_model_module_version": "1.5.0",
            "_model_name": "HTMLModel",
            "_view_count": null,
            "_view_module": "@jupyter-widgets/controls",
            "_view_module_version": "1.5.0",
            "_view_name": "HTMLView",
            "description": "",
            "description_tooltip": null,
            "layout": "IPY_MODEL_e34da6e71a5f4e53bd6842998c12d98a",
            "placeholder": "​",
            "style": "IPY_MODEL_cd3a235e7aa34f56972b87c4b0e6ab99",
            "value": "Map: 100%"
          }
        },
        "d6ec7e47a7e74d5a84a6a29e0329676b": {
          "model_module": "@jupyter-widgets/base",
          "model_module_version": "1.2.0",
          "model_name": "LayoutModel",
          "state": {
            "_model_module": "@jupyter-widgets/base",
            "_model_module_version": "1.2.0",
            "_model_name": "LayoutModel",
            "_view_count": null,
            "_view_module": "@jupyter-widgets/base",
            "_view_module_version": "1.2.0",
            "_view_name": "LayoutView",
            "align_content": null,
            "align_items": null,
            "align_self": null,
            "border": null,
            "bottom": null,
            "display": null,
            "flex": null,
            "flex_flow": null,
            "grid_area": null,
            "grid_auto_columns": null,
            "grid_auto_flow": null,
            "grid_auto_rows": null,
            "grid_column": null,
            "grid_gap": null,
            "grid_row": null,
            "grid_template_areas": null,
            "grid_template_columns": null,
            "grid_template_rows": null,
            "height": null,
            "justify_content": null,
            "justify_items": null,
            "left": null,
            "margin": null,
            "max_height": null,
            "max_width": null,
            "min_height": null,
            "min_width": null,
            "object_fit": null,
            "object_position": null,
            "order": null,
            "overflow": null,
            "overflow_x": null,
            "overflow_y": null,
            "padding": null,
            "right": null,
            "top": null,
            "visibility": null,
            "width": null
          }
        },
        "d91b9dfd7d7a493a93101202338c1edb": {
          "model_module": "@jupyter-widgets/base",
          "model_module_version": "1.2.0",
          "model_name": "LayoutModel",
          "state": {
            "_model_module": "@jupyter-widgets/base",
            "_model_module_version": "1.2.0",
            "_model_name": "LayoutModel",
            "_view_count": null,
            "_view_module": "@jupyter-widgets/base",
            "_view_module_version": "1.2.0",
            "_view_name": "LayoutView",
            "align_content": null,
            "align_items": null,
            "align_self": null,
            "border": null,
            "bottom": null,
            "display": null,
            "flex": null,
            "flex_flow": null,
            "grid_area": null,
            "grid_auto_columns": null,
            "grid_auto_flow": null,
            "grid_auto_rows": null,
            "grid_column": null,
            "grid_gap": null,
            "grid_row": null,
            "grid_template_areas": null,
            "grid_template_columns": null,
            "grid_template_rows": null,
            "height": null,
            "justify_content": null,
            "justify_items": null,
            "left": null,
            "margin": null,
            "max_height": null,
            "max_width": null,
            "min_height": null,
            "min_width": null,
            "object_fit": null,
            "object_position": null,
            "order": null,
            "overflow": null,
            "overflow_x": null,
            "overflow_y": null,
            "padding": null,
            "right": null,
            "top": null,
            "visibility": null,
            "width": null
          }
        },
        "d953989d778a4591b216c519d385f608": {
          "model_module": "@jupyter-widgets/controls",
          "model_module_version": "1.5.0",
          "model_name": "ProgressStyleModel",
          "state": {
            "_model_module": "@jupyter-widgets/controls",
            "_model_module_version": "1.5.0",
            "_model_name": "ProgressStyleModel",
            "_view_count": null,
            "_view_module": "@jupyter-widgets/base",
            "_view_module_version": "1.2.0",
            "_view_name": "StyleView",
            "bar_color": null,
            "description_width": ""
          }
        },
        "d95cb31c9bad4ece8c4a21e4a7e2847c": {
          "model_module": "@jupyter-widgets/controls",
          "model_module_version": "1.5.0",
          "model_name": "DescriptionStyleModel",
          "state": {
            "_model_module": "@jupyter-widgets/controls",
            "_model_module_version": "1.5.0",
            "_model_name": "DescriptionStyleModel",
            "_view_count": null,
            "_view_module": "@jupyter-widgets/base",
            "_view_module_version": "1.2.0",
            "_view_name": "StyleView",
            "description_width": ""
          }
        },
        "dec7f5e92ad943de80f489280a30c2f5": {
          "model_module": "@jupyter-widgets/controls",
          "model_module_version": "1.5.0",
          "model_name": "HTMLModel",
          "state": {
            "_dom_classes": [],
            "_model_module": "@jupyter-widgets/controls",
            "_model_module_version": "1.5.0",
            "_model_name": "HTMLModel",
            "_view_count": null,
            "_view_module": "@jupyter-widgets/controls",
            "_view_module_version": "1.5.0",
            "_view_name": "HTMLView",
            "description": "",
            "description_tooltip": null,
            "layout": "IPY_MODEL_c4c0786446834615815c8ac60e92ca9c",
            "placeholder": "​",
            "style": "IPY_MODEL_ee3be414133e4ba5a3977b0cdd048d89",
            "value": " 89/89 [00:00&lt;00:00, 777.34 examples/s]"
          }
        },
        "df7e5e9eb976459a9beaf0ff224fcb9d": {
          "model_module": "@jupyter-widgets/controls",
          "model_module_version": "1.5.0",
          "model_name": "ProgressStyleModel",
          "state": {
            "_model_module": "@jupyter-widgets/controls",
            "_model_module_version": "1.5.0",
            "_model_name": "ProgressStyleModel",
            "_view_count": null,
            "_view_module": "@jupyter-widgets/base",
            "_view_module_version": "1.2.0",
            "_view_name": "StyleView",
            "bar_color": null,
            "description_width": ""
          }
        },
        "e12c1f0399d24af7ae3eb9d38330334a": {
          "model_module": "@jupyter-widgets/controls",
          "model_module_version": "1.5.0",
          "model_name": "FloatProgressModel",
          "state": {
            "_dom_classes": [],
            "_model_module": "@jupyter-widgets/controls",
            "_model_module_version": "1.5.0",
            "_model_name": "FloatProgressModel",
            "_view_count": null,
            "_view_module": "@jupyter-widgets/controls",
            "_view_module_version": "1.5.0",
            "_view_name": "ProgressView",
            "bar_style": "success",
            "description": "",
            "description_tooltip": null,
            "layout": "IPY_MODEL_d550997734224292a1620378f25ab006",
            "max": 169,
            "min": 0,
            "orientation": "horizontal",
            "style": "IPY_MODEL_df7e5e9eb976459a9beaf0ff224fcb9d",
            "value": 169
          }
        },
        "e34da6e71a5f4e53bd6842998c12d98a": {
          "model_module": "@jupyter-widgets/base",
          "model_module_version": "1.2.0",
          "model_name": "LayoutModel",
          "state": {
            "_model_module": "@jupyter-widgets/base",
            "_model_module_version": "1.2.0",
            "_model_name": "LayoutModel",
            "_view_count": null,
            "_view_module": "@jupyter-widgets/base",
            "_view_module_version": "1.2.0",
            "_view_name": "LayoutView",
            "align_content": null,
            "align_items": null,
            "align_self": null,
            "border": null,
            "bottom": null,
            "display": null,
            "flex": null,
            "flex_flow": null,
            "grid_area": null,
            "grid_auto_columns": null,
            "grid_auto_flow": null,
            "grid_auto_rows": null,
            "grid_column": null,
            "grid_gap": null,
            "grid_row": null,
            "grid_template_areas": null,
            "grid_template_columns": null,
            "grid_template_rows": null,
            "height": null,
            "justify_content": null,
            "justify_items": null,
            "left": null,
            "margin": null,
            "max_height": null,
            "max_width": null,
            "min_height": null,
            "min_width": null,
            "object_fit": null,
            "object_position": null,
            "order": null,
            "overflow": null,
            "overflow_x": null,
            "overflow_y": null,
            "padding": null,
            "right": null,
            "top": null,
            "visibility": null,
            "width": null
          }
        },
        "e3a37c6a6d1b4292a87e0b5c660f42ad": {
          "model_module": "@jupyter-widgets/controls",
          "model_module_version": "1.5.0",
          "model_name": "HTMLModel",
          "state": {
            "_dom_classes": [],
            "_model_module": "@jupyter-widgets/controls",
            "_model_module_version": "1.5.0",
            "_model_name": "HTMLModel",
            "_view_count": null,
            "_view_module": "@jupyter-widgets/controls",
            "_view_module_version": "1.5.0",
            "_view_name": "HTMLView",
            "description": "",
            "description_tooltip": null,
            "layout": "IPY_MODEL_9ab053b3bb2a4aed83626009ce6c8e22",
            "placeholder": "​",
            "style": "IPY_MODEL_d3212f63abf9444bad26bbe3303d7826",
            "value": " 10/10 [00:00&lt;00:00, 356.73 examples/s]"
          }
        },
        "e3d73680d82440e5b64a827852a5f0ac": {
          "model_module": "@jupyter-widgets/base",
          "model_module_version": "1.2.0",
          "model_name": "LayoutModel",
          "state": {
            "_model_module": "@jupyter-widgets/base",
            "_model_module_version": "1.2.0",
            "_model_name": "LayoutModel",
            "_view_count": null,
            "_view_module": "@jupyter-widgets/base",
            "_view_module_version": "1.2.0",
            "_view_name": "LayoutView",
            "align_content": null,
            "align_items": null,
            "align_self": null,
            "border": null,
            "bottom": null,
            "display": null,
            "flex": null,
            "flex_flow": null,
            "grid_area": null,
            "grid_auto_columns": null,
            "grid_auto_flow": null,
            "grid_auto_rows": null,
            "grid_column": null,
            "grid_gap": null,
            "grid_row": null,
            "grid_template_areas": null,
            "grid_template_columns": null,
            "grid_template_rows": null,
            "height": null,
            "justify_content": null,
            "justify_items": null,
            "left": null,
            "margin": null,
            "max_height": null,
            "max_width": null,
            "min_height": null,
            "min_width": null,
            "object_fit": null,
            "object_position": null,
            "order": null,
            "overflow": null,
            "overflow_x": null,
            "overflow_y": null,
            "padding": null,
            "right": null,
            "top": null,
            "visibility": null,
            "width": null
          }
        },
        "e443c9a97c8343febc2cd80ba7ede552": {
          "model_module": "@jupyter-widgets/controls",
          "model_module_version": "1.5.0",
          "model_name": "DescriptionStyleModel",
          "state": {
            "_model_module": "@jupyter-widgets/controls",
            "_model_module_version": "1.5.0",
            "_model_name": "DescriptionStyleModel",
            "_view_count": null,
            "_view_module": "@jupyter-widgets/base",
            "_view_module_version": "1.2.0",
            "_view_name": "StyleView",
            "description_width": ""
          }
        },
        "e5e1aeffbf4b4078aaf701b2a5f3a4d9": {
          "model_module": "@jupyter-widgets/controls",
          "model_module_version": "1.5.0",
          "model_name": "HTMLModel",
          "state": {
            "_dom_classes": [],
            "_model_module": "@jupyter-widgets/controls",
            "_model_module_version": "1.5.0",
            "_model_name": "HTMLModel",
            "_view_count": null,
            "_view_module": "@jupyter-widgets/controls",
            "_view_module_version": "1.5.0",
            "_view_name": "HTMLView",
            "description": "",
            "description_tooltip": null,
            "layout": "IPY_MODEL_47e615d48777456db513f8f41f326fa6",
            "placeholder": "​",
            "style": "IPY_MODEL_e443c9a97c8343febc2cd80ba7ede552",
            "value": " 19/19 [00:00&lt;00:00, 834.39 examples/s]"
          }
        },
        "ee3be414133e4ba5a3977b0cdd048d89": {
          "model_module": "@jupyter-widgets/controls",
          "model_module_version": "1.5.0",
          "model_name": "DescriptionStyleModel",
          "state": {
            "_model_module": "@jupyter-widgets/controls",
            "_model_module_version": "1.5.0",
            "_model_name": "DescriptionStyleModel",
            "_view_count": null,
            "_view_module": "@jupyter-widgets/base",
            "_view_module_version": "1.2.0",
            "_view_name": "StyleView",
            "description_width": ""
          }
        },
        "f4d76b1a647742b7a2fa444843740d4c": {
          "model_module": "@jupyter-widgets/controls",
          "model_module_version": "1.5.0",
          "model_name": "HTMLModel",
          "state": {
            "_dom_classes": [],
            "_model_module": "@jupyter-widgets/controls",
            "_model_module_version": "1.5.0",
            "_model_name": "HTMLModel",
            "_view_count": null,
            "_view_module": "@jupyter-widgets/controls",
            "_view_module_version": "1.5.0",
            "_view_name": "HTMLView",
            "description": "",
            "description_tooltip": null,
            "layout": "IPY_MODEL_e3d73680d82440e5b64a827852a5f0ac",
            "placeholder": "​",
            "style": "IPY_MODEL_d95cb31c9bad4ece8c4a21e4a7e2847c",
            "value": " 89/89 [00:00&lt;00:00, 2823.49 examples/s]"
          }
        },
        "f51ebf1b616b4fb1b4a5d28697306299": {
          "model_module": "@jupyter-widgets/controls",
          "model_module_version": "1.5.0",
          "model_name": "HTMLModel",
          "state": {
            "_dom_classes": [],
            "_model_module": "@jupyter-widgets/controls",
            "_model_module_version": "1.5.0",
            "_model_name": "HTMLModel",
            "_view_count": null,
            "_view_module": "@jupyter-widgets/controls",
            "_view_module_version": "1.5.0",
            "_view_name": "HTMLView",
            "description": "",
            "description_tooltip": null,
            "layout": "IPY_MODEL_a26779dcb0aa44469e1341cd20c6a65f",
            "placeholder": "​",
            "style": "IPY_MODEL_73ea289d5088467aaafe9eb454e04a3c",
            "value": " 19/19 [00:00&lt;00:00, 353.78 examples/s]"
          }
        },
        "f9582857076640e2b16f5790cca6e3a1": {
          "model_module": "@jupyter-widgets/controls",
          "model_module_version": "1.5.0",
          "model_name": "DescriptionStyleModel",
          "state": {
            "_model_module": "@jupyter-widgets/controls",
            "_model_module_version": "1.5.0",
            "_model_name": "DescriptionStyleModel",
            "_view_count": null,
            "_view_module": "@jupyter-widgets/base",
            "_view_module_version": "1.2.0",
            "_view_name": "StyleView",
            "description_width": ""
          }
        },
        "fb95268347b04f49a0345260bdaf69f1": {
          "model_module": "@jupyter-widgets/base",
          "model_module_version": "1.2.0",
          "model_name": "LayoutModel",
          "state": {
            "_model_module": "@jupyter-widgets/base",
            "_model_module_version": "1.2.0",
            "_model_name": "LayoutModel",
            "_view_count": null,
            "_view_module": "@jupyter-widgets/base",
            "_view_module_version": "1.2.0",
            "_view_name": "LayoutView",
            "align_content": null,
            "align_items": null,
            "align_self": null,
            "border": null,
            "bottom": null,
            "display": null,
            "flex": null,
            "flex_flow": null,
            "grid_area": null,
            "grid_auto_columns": null,
            "grid_auto_flow": null,
            "grid_auto_rows": null,
            "grid_column": null,
            "grid_gap": null,
            "grid_row": null,
            "grid_template_areas": null,
            "grid_template_columns": null,
            "grid_template_rows": null,
            "height": null,
            "justify_content": null,
            "justify_items": null,
            "left": null,
            "margin": null,
            "max_height": null,
            "max_width": null,
            "min_height": null,
            "min_width": null,
            "object_fit": null,
            "object_position": null,
            "order": null,
            "overflow": null,
            "overflow_x": null,
            "overflow_y": null,
            "padding": null,
            "right": null,
            "top": null,
            "visibility": null,
            "width": null
          }
        }
      }
    }
  },
  "nbformat": 4,
  "nbformat_minor": 0
}